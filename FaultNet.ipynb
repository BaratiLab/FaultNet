{
 "cells": [
  {
   "cell_type": "code",
   "execution_count": 1,
   "metadata": {},
   "outputs": [],
   "source": [
    "import numpy as np\n",
    "import pandas as pd"
   ]
  },
  {
   "cell_type": "code",
   "execution_count": 2,
   "metadata": {},
   "outputs": [],
   "source": [
    "import torch\n",
    "import torch.nn as nn\n",
    "from torchvision.datasets import CIFAR10\n",
    "from torchvision.transforms import transforms\n",
    "from torch.utils.data import DataLoader\n",
    "from torch.optim import Adam\n",
    "from torch.autograd import Variable\n",
    "import torch.nn.functional as F"
   ]
  },
  {
   "cell_type": "code",
   "execution_count": 3,
   "metadata": {},
   "outputs": [
    {
     "name": "stdout",
     "output_type": "stream",
     "text": [
      "True\n"
     ]
    }
   ],
   "source": [
    "cuda=torch.cuda.is_available()\n",
    "print(cuda)\n",
    "device=torch.device('cuda' if cuda else 'cpu')"
   ]
  },
  {
   "cell_type": "code",
   "execution_count": 4,
   "metadata": {},
   "outputs": [],
   "source": [
    "data = np.load('CWRU_dataset.npy')\n",
    "labels = np.load('CWRU_lables.npy')"
   ]
  },
  {
   "cell_type": "code",
   "execution_count": 5,
   "metadata": {},
   "outputs": [],
   "source": [
    "x=data[:,0:1600]"
   ]
  },
  {
   "cell_type": "code",
   "execution_count": 6,
   "metadata": {},
   "outputs": [],
   "source": [
    "def mean(data,no_elements):\n",
    "    X=np.zeros((data.shape[0],data.shape[1]))\n",
    "    for i in range(data.shape[1]-no_elements+1):\n",
    "        X[:,i]=np.mean(data[:,i:i+no_elements],axis=1)\n",
    "    return X.astype(np.float16)\n",
    "def median(data,no_elements):\n",
    "    X=np.zeros((data.shape[0],data.shape[1]))\n",
    "    for i in range(data.shape[1]-no_elements+1):\n",
    "        X[:,i]=np.median(data[:,i:i+no_elements],axis=1)\n",
    "    return X.astype(np.float16)\n",
    "def sig_image(data,size):\n",
    "    X=np.zeros((data.shape[0],size,size))\n",
    "    for i in range(data.shape[0]):\n",
    "        X[i]=(data[i,:].reshape(size,size))\n",
    "    return X.astype(np.float16)"
   ]
  },
  {
   "cell_type": "code",
   "execution_count": 7,
   "metadata": {},
   "outputs": [],
   "source": [
    "channel_mean=(mean(x,10)).astype(np.float16)\n",
    "x_m=sig_image(channel_mean,40)\n",
    "channel_median=(median(x,10)).astype(np.float16)\n",
    "x_md=sig_image(x,40)"
   ]
  },
  {
   "cell_type": "code",
   "execution_count": 8,
   "metadata": {},
   "outputs": [],
   "source": [
    "x_n=sig_image(x,40)"
   ]
  },
  {
   "cell_type": "code",
   "execution_count": 9,
   "metadata": {},
   "outputs": [
    {
     "data": {
      "text/plain": [
       "(2800, 40, 40)"
      ]
     },
     "execution_count": 9,
     "metadata": {},
     "output_type": "execute_result"
    }
   ],
   "source": [
    "x_n.shape"
   ]
  },
  {
   "cell_type": "code",
   "execution_count": 10,
   "metadata": {},
   "outputs": [
    {
     "data": {
      "text/plain": [
       "(2800, 40, 40)"
      ]
     },
     "execution_count": 10,
     "metadata": {},
     "output_type": "execute_result"
    }
   ],
   "source": [
    "x_m.shape"
   ]
  },
  {
   "cell_type": "code",
   "execution_count": 11,
   "metadata": {},
   "outputs": [],
   "source": [
    "X=np.stack((x_n,x_m,x_md),axis=1).astype(np.float16)"
   ]
  },
  {
   "cell_type": "code",
   "execution_count": 12,
   "metadata": {},
   "outputs": [
    {
     "data": {
      "text/plain": [
       "(2800, 3, 40, 40)"
      ]
     },
     "execution_count": 12,
     "metadata": {},
     "output_type": "execute_result"
    }
   ],
   "source": [
    "X.shape"
   ]
  },
  {
   "cell_type": "code",
   "execution_count": 13,
   "metadata": {},
   "outputs": [],
   "source": [
    "from sklearn.model_selection import train_test_split\n",
    "trainx, testx, trainlabel, testlabel = train_test_split(X, labels, test_size=0.2, random_state=20)"
   ]
  },
  {
   "cell_type": "code",
   "execution_count": 14,
   "metadata": {},
   "outputs": [],
   "source": [
    "sig_train, sig_test = trainx,testx\n",
    "lab_train, lab_test = trainlabel,testlabel"
   ]
  },
  {
   "cell_type": "code",
   "execution_count": 15,
   "metadata": {},
   "outputs": [],
   "source": [
    "sig_train = torch.from_numpy(sig_train)\n",
    "sig_test = torch.from_numpy(sig_test)\n",
    "lab_train= torch.from_numpy(lab_train)\n",
    "lab_test = torch.from_numpy(lab_test)"
   ]
  },
  {
   "cell_type": "code",
   "execution_count": 16,
   "metadata": {},
   "outputs": [],
   "source": [
    "import torch.utils.data as data_utils\n",
    "batch_size = 128 \n",
    "train_tensor = data_utils.TensorDataset(sig_train, lab_train) \n",
    "train_loader = data_utils.DataLoader(dataset = train_tensor, batch_size = batch_size, shuffle = True)"
   ]
  },
  {
   "cell_type": "code",
   "execution_count": 17,
   "metadata": {},
   "outputs": [],
   "source": [
    "batch_size = 1024\n",
    "test_tensor = data_utils.TensorDataset(sig_test, lab_test) \n",
    "test_loader = data_utils.DataLoader(dataset = test_tensor, batch_size = batch_size, shuffle = False)"
   ]
  },
  {
   "cell_type": "code",
   "execution_count": 18,
   "metadata": {},
   "outputs": [
    {
     "data": {
      "text/plain": [
       "torch.Size([2240, 3, 40, 40])"
      ]
     },
     "execution_count": 18,
     "metadata": {},
     "output_type": "execute_result"
    }
   ],
   "source": [
    "sig_train.size()"
   ]
  },
  {
   "cell_type": "code",
   "execution_count": 19,
   "metadata": {},
   "outputs": [
    {
     "data": {
      "text/plain": [
       "torch.Size([560, 3, 40, 40])"
      ]
     },
     "execution_count": 19,
     "metadata": {},
     "output_type": "execute_result"
    }
   ],
   "source": [
    "sig_test.size()"
   ]
  },
  {
   "cell_type": "code",
   "execution_count": 20,
   "metadata": {},
   "outputs": [],
   "source": [
    "class CNN(nn.Module):\n",
    "    def __init__(self):\n",
    "        super(CNN, self).__init__()\n",
    "        self.conv1 = nn.Conv2d(3, 32, kernel_size=4,stride=1,padding = 1)\n",
    "        self.mp1 = nn.MaxPool2d(kernel_size=4,stride=2)\n",
    "        self.conv2 = nn.Conv2d(32,64, kernel_size=4,stride =1)\n",
    "        self.mp2 = nn.MaxPool2d(kernel_size=4,stride=2)\n",
    "        self.conv3 = nn.Conv2d(64,32,kernel_size = 1,stride = 1)\n",
    "        self.fc1= nn.Linear(1152,256)\n",
    "        self.dp1 = nn.Dropout(p=0.2)\n",
    "        self.fc4 = nn.Linear(256,10)\n",
    "\n",
    "    def forward(self, x):\n",
    "        in_size = x.size(0)\n",
    "        x = F.relu(self.mp1(self.conv1(x)))\n",
    "        x = F.relu(self.mp2(self.conv2(x)))\n",
    "        x = F.relu((self.conv3(x)))\n",
    "        x = x.view(in_size,-1)\n",
    "        x = F.relu(self.fc1(x))\n",
    "        x = self.dp1(x)\n",
    "        x = self.fc4(x)\n",
    "        \n",
    "        return F.log_softmax(x, dim=1)"
   ]
  },
  {
   "cell_type": "code",
   "execution_count": 21,
   "metadata": {},
   "outputs": [],
   "source": [
    "def outputSize(in_size, kernel_size, stride, padding):\n",
    "\n",
    "    output = int((in_size - kernel_size + 2*(padding)) / stride) + 1\n",
    "\n",
    "    return(output)"
   ]
  },
  {
   "cell_type": "code",
   "execution_count": 22,
   "metadata": {},
   "outputs": [],
   "source": [
    "# def init_normal(m):\n",
    "#     if type(m) == nn.Conv2d:\n",
    "#         nn.init.xavier_uniform(m.weight)"
   ]
  },
  {
   "cell_type": "code",
   "execution_count": 23,
   "metadata": {},
   "outputs": [],
   "source": [
    "cnn = CNN().double()\n",
    "#cnn = cnn.apply(init_normal)"
   ]
  },
  {
   "cell_type": "code",
   "execution_count": 24,
   "metadata": {},
   "outputs": [],
   "source": [
    "criterion = nn.CrossEntropyLoss()\n",
    "optimizer = torch.optim.Adam(cnn.parameters(), lr=0.001)"
   ]
  },
  {
   "cell_type": "code",
   "execution_count": 25,
   "metadata": {},
   "outputs": [],
   "source": [
    "num_epochs = 100"
   ]
  },
  {
   "cell_type": "code",
   "execution_count": 27,
   "metadata": {},
   "outputs": [
    {
     "name": "stdout",
     "output_type": "stream",
     "text": [
      "Epoch [1/100], Step [1/18], Loss: 2.3014, Train Accuracy: 6.25%\n",
      "Epoch [1/100], Step [2/18], Loss: 2.2715, Train Accuracy: 13.28%\n",
      "Epoch [1/100], Step [3/18], Loss: 2.1618, Train Accuracy: 19.53%\n",
      "Epoch [1/100], Step [4/18], Loss: 2.0655, Train Accuracy: 24.22%\n",
      "Epoch [1/100], Step [5/18], Loss: 2.0209, Train Accuracy: 18.75%\n",
      "Epoch [1/100], Step [6/18], Loss: 1.9545, Train Accuracy: 32.81%\n",
      "Epoch [1/100], Step [7/18], Loss: 1.9895, Train Accuracy: 24.22%\n",
      "Epoch [1/100], Step [8/18], Loss: 1.9298, Train Accuracy: 28.91%\n",
      "Epoch [1/100], Step [9/18], Loss: 1.7844, Train Accuracy: 38.28%\n",
      "Epoch [1/100], Step [10/18], Loss: 1.7836, Train Accuracy: 32.03%\n",
      "Epoch [1/100], Step [11/18], Loss: 1.8641, Train Accuracy: 29.69%\n",
      "Epoch [1/100], Step [12/18], Loss: 1.7861, Train Accuracy: 28.91%\n",
      "Epoch [1/100], Step [13/18], Loss: 1.7344, Train Accuracy: 35.16%\n",
      "Epoch [1/100], Step [14/18], Loss: 1.6487, Train Accuracy: 42.97%\n",
      "Epoch [1/100], Step [15/18], Loss: 1.5451, Train Accuracy: 47.66%\n",
      "Epoch [1/100], Step [16/18], Loss: 1.5333, Train Accuracy: 40.62%\n",
      "Epoch [1/100], Step [17/18], Loss: 1.3967, Train Accuracy: 43.75%\n",
      "Epoch [1/100], Step [18/18], Loss: 1.4315, Train Accuracy: 50.00%\n",
      "Epoch [5/100], Step [1/18], Loss: 0.6330, Train Accuracy: 72.66%\n",
      "Epoch [5/100], Step [2/18], Loss: 0.6282, Train Accuracy: 73.44%\n",
      "Epoch [5/100], Step [3/18], Loss: 0.6746, Train Accuracy: 70.31%\n",
      "Epoch [5/100], Step [4/18], Loss: 0.5477, Train Accuracy: 78.12%\n",
      "Epoch [5/100], Step [5/18], Loss: 0.4948, Train Accuracy: 78.91%\n",
      "Epoch [5/100], Step [6/18], Loss: 0.6100, Train Accuracy: 75.00%\n",
      "Epoch [5/100], Step [7/18], Loss: 0.6071, Train Accuracy: 72.66%\n",
      "Epoch [5/100], Step [8/18], Loss: 0.5941, Train Accuracy: 71.88%\n",
      "Epoch [5/100], Step [9/18], Loss: 0.6566, Train Accuracy: 78.91%\n",
      "Epoch [5/100], Step [10/18], Loss: 0.6694, Train Accuracy: 74.22%\n",
      "Epoch [5/100], Step [11/18], Loss: 0.6719, Train Accuracy: 74.22%\n",
      "Epoch [5/100], Step [12/18], Loss: 0.5126, Train Accuracy: 78.12%\n",
      "Epoch [5/100], Step [13/18], Loss: 0.6773, Train Accuracy: 67.19%\n",
      "Epoch [5/100], Step [14/18], Loss: 0.5243, Train Accuracy: 81.25%\n",
      "Epoch [5/100], Step [15/18], Loss: 0.5788, Train Accuracy: 72.66%\n",
      "Epoch [5/100], Step [16/18], Loss: 0.4929, Train Accuracy: 78.91%\n",
      "Epoch [5/100], Step [17/18], Loss: 0.5017, Train Accuracy: 80.47%\n",
      "Epoch [5/100], Step [18/18], Loss: 0.4985, Train Accuracy: 85.94%\n",
      "Epoch [10/100], Step [1/18], Loss: 0.3613, Train Accuracy: 88.28%\n",
      "Epoch [10/100], Step [2/18], Loss: 0.3472, Train Accuracy: 86.72%\n",
      "Epoch [10/100], Step [3/18], Loss: 0.3568, Train Accuracy: 82.81%\n",
      "Epoch [10/100], Step [4/18], Loss: 0.3833, Train Accuracy: 80.47%\n",
      "Epoch [10/100], Step [5/18], Loss: 0.3768, Train Accuracy: 82.81%\n",
      "Epoch [10/100], Step [6/18], Loss: 0.5152, Train Accuracy: 82.81%\n",
      "Epoch [10/100], Step [7/18], Loss: 0.3872, Train Accuracy: 81.25%\n",
      "Epoch [10/100], Step [8/18], Loss: 0.3600, Train Accuracy: 84.38%\n",
      "Epoch [10/100], Step [9/18], Loss: 0.4567, Train Accuracy: 79.69%\n",
      "Epoch [10/100], Step [10/18], Loss: 0.3281, Train Accuracy: 88.28%\n",
      "Epoch [10/100], Step [11/18], Loss: 0.3511, Train Accuracy: 85.94%\n",
      "Epoch [10/100], Step [12/18], Loss: 0.3482, Train Accuracy: 86.72%\n",
      "Epoch [10/100], Step [13/18], Loss: 0.3004, Train Accuracy: 85.94%\n",
      "Epoch [10/100], Step [14/18], Loss: 0.4565, Train Accuracy: 80.47%\n",
      "Epoch [10/100], Step [15/18], Loss: 0.3844, Train Accuracy: 80.47%\n",
      "Epoch [10/100], Step [16/18], Loss: 0.3828, Train Accuracy: 83.59%\n",
      "Epoch [10/100], Step [17/18], Loss: 0.3684, Train Accuracy: 86.72%\n",
      "Epoch [10/100], Step [18/18], Loss: 0.3370, Train Accuracy: 85.94%\n",
      "Epoch [15/100], Step [1/18], Loss: 0.3265, Train Accuracy: 86.72%\n",
      "Epoch [15/100], Step [2/18], Loss: 0.2044, Train Accuracy: 92.19%\n",
      "Epoch [15/100], Step [3/18], Loss: 0.3586, Train Accuracy: 85.16%\n",
      "Epoch [15/100], Step [4/18], Loss: 0.2957, Train Accuracy: 85.94%\n",
      "Epoch [15/100], Step [5/18], Loss: 0.3978, Train Accuracy: 80.47%\n",
      "Epoch [15/100], Step [6/18], Loss: 0.2687, Train Accuracy: 88.28%\n",
      "Epoch [15/100], Step [7/18], Loss: 0.2691, Train Accuracy: 89.06%\n",
      "Epoch [15/100], Step [8/18], Loss: 0.2577, Train Accuracy: 92.19%\n",
      "Epoch [15/100], Step [9/18], Loss: 0.3341, Train Accuracy: 83.59%\n",
      "Epoch [15/100], Step [10/18], Loss: 0.3297, Train Accuracy: 87.50%\n",
      "Epoch [15/100], Step [11/18], Loss: 0.3045, Train Accuracy: 85.94%\n",
      "Epoch [15/100], Step [12/18], Loss: 0.2822, Train Accuracy: 87.50%\n",
      "Epoch [15/100], Step [13/18], Loss: 0.2877, Train Accuracy: 87.50%\n",
      "Epoch [15/100], Step [14/18], Loss: 0.3035, Train Accuracy: 84.38%\n",
      "Epoch [15/100], Step [15/18], Loss: 0.2555, Train Accuracy: 88.28%\n",
      "Epoch [15/100], Step [16/18], Loss: 0.3407, Train Accuracy: 81.25%\n",
      "Epoch [15/100], Step [17/18], Loss: 0.2049, Train Accuracy: 90.62%\n",
      "Epoch [15/100], Step [18/18], Loss: 0.2605, Train Accuracy: 85.94%\n",
      "Epoch [20/100], Step [1/18], Loss: 0.2481, Train Accuracy: 88.28%\n",
      "Epoch [20/100], Step [2/18], Loss: 0.2551, Train Accuracy: 89.84%\n",
      "Epoch [20/100], Step [3/18], Loss: 0.2256, Train Accuracy: 89.84%\n",
      "Epoch [20/100], Step [4/18], Loss: 0.2331, Train Accuracy: 86.72%\n",
      "Epoch [20/100], Step [5/18], Loss: 0.1575, Train Accuracy: 93.75%\n",
      "Epoch [20/100], Step [6/18], Loss: 0.2023, Train Accuracy: 88.28%\n",
      "Epoch [20/100], Step [7/18], Loss: 0.2631, Train Accuracy: 87.50%\n",
      "Epoch [20/100], Step [8/18], Loss: 0.2723, Train Accuracy: 89.84%\n",
      "Epoch [20/100], Step [9/18], Loss: 0.1824, Train Accuracy: 92.19%\n",
      "Epoch [20/100], Step [10/18], Loss: 0.2500, Train Accuracy: 86.72%\n",
      "Epoch [20/100], Step [11/18], Loss: 0.2720, Train Accuracy: 88.28%\n",
      "Epoch [20/100], Step [12/18], Loss: 0.3207, Train Accuracy: 85.16%\n",
      "Epoch [20/100], Step [13/18], Loss: 0.2511, Train Accuracy: 88.28%\n",
      "Epoch [20/100], Step [14/18], Loss: 0.2429, Train Accuracy: 89.84%\n",
      "Epoch [20/100], Step [15/18], Loss: 0.2413, Train Accuracy: 92.19%\n",
      "Epoch [20/100], Step [16/18], Loss: 0.2007, Train Accuracy: 89.06%\n",
      "Epoch [20/100], Step [17/18], Loss: 0.2085, Train Accuracy: 89.84%\n",
      "Epoch [20/100], Step [18/18], Loss: 0.3173, Train Accuracy: 84.38%\n",
      "Epoch [25/100], Step [1/18], Loss: 0.2156, Train Accuracy: 89.84%\n",
      "Epoch [25/100], Step [2/18], Loss: 0.1718, Train Accuracy: 92.19%\n",
      "Epoch [25/100], Step [3/18], Loss: 0.1880, Train Accuracy: 91.41%\n",
      "Epoch [25/100], Step [4/18], Loss: 0.1712, Train Accuracy: 90.62%\n",
      "Epoch [25/100], Step [5/18], Loss: 0.1621, Train Accuracy: 91.41%\n",
      "Epoch [25/100], Step [6/18], Loss: 0.2199, Train Accuracy: 89.06%\n",
      "Epoch [25/100], Step [7/18], Loss: 0.1613, Train Accuracy: 94.53%\n",
      "Epoch [25/100], Step [8/18], Loss: 0.2016, Train Accuracy: 91.41%\n",
      "Epoch [25/100], Step [9/18], Loss: 0.2562, Train Accuracy: 89.06%\n",
      "Epoch [25/100], Step [10/18], Loss: 0.1947, Train Accuracy: 90.62%\n",
      "Epoch [25/100], Step [11/18], Loss: 0.2065, Train Accuracy: 89.84%\n",
      "Epoch [25/100], Step [12/18], Loss: 0.2060, Train Accuracy: 90.62%\n",
      "Epoch [25/100], Step [13/18], Loss: 0.1928, Train Accuracy: 92.97%\n",
      "Epoch [25/100], Step [14/18], Loss: 0.1807, Train Accuracy: 91.41%\n",
      "Epoch [25/100], Step [15/18], Loss: 0.1395, Train Accuracy: 93.75%\n",
      "Epoch [25/100], Step [16/18], Loss: 0.1842, Train Accuracy: 93.75%\n",
      "Epoch [25/100], Step [17/18], Loss: 0.1269, Train Accuracy: 95.31%\n",
      "Epoch [25/100], Step [18/18], Loss: 0.1678, Train Accuracy: 90.62%\n",
      "Epoch [30/100], Step [1/18], Loss: 0.2065, Train Accuracy: 89.84%\n",
      "Epoch [30/100], Step [2/18], Loss: 0.1925, Train Accuracy: 89.84%\n",
      "Epoch [30/100], Step [3/18], Loss: 0.1520, Train Accuracy: 93.75%\n",
      "Epoch [30/100], Step [4/18], Loss: 0.1336, Train Accuracy: 93.75%\n",
      "Epoch [30/100], Step [5/18], Loss: 0.1277, Train Accuracy: 95.31%\n",
      "Epoch [30/100], Step [6/18], Loss: 0.1926, Train Accuracy: 90.62%\n",
      "Epoch [30/100], Step [7/18], Loss: 0.2229, Train Accuracy: 88.28%\n",
      "Epoch [30/100], Step [8/18], Loss: 0.0980, Train Accuracy: 96.88%\n",
      "Epoch [30/100], Step [9/18], Loss: 0.1563, Train Accuracy: 90.62%\n",
      "Epoch [30/100], Step [10/18], Loss: 0.1096, Train Accuracy: 96.09%\n",
      "Epoch [30/100], Step [11/18], Loss: 0.1773, Train Accuracy: 91.41%\n",
      "Epoch [30/100], Step [12/18], Loss: 0.1295, Train Accuracy: 95.31%\n",
      "Epoch [30/100], Step [13/18], Loss: 0.1866, Train Accuracy: 93.75%\n",
      "Epoch [30/100], Step [14/18], Loss: 0.1851, Train Accuracy: 92.19%\n",
      "Epoch [30/100], Step [15/18], Loss: 0.0997, Train Accuracy: 96.09%\n",
      "Epoch [30/100], Step [16/18], Loss: 0.1641, Train Accuracy: 95.31%\n"
     ]
    },
    {
     "name": "stdout",
     "output_type": "stream",
     "text": [
      "Epoch [30/100], Step [17/18], Loss: 0.1673, Train Accuracy: 91.41%\n",
      "Epoch [30/100], Step [18/18], Loss: 0.0851, Train Accuracy: 96.88%\n",
      "Epoch [35/100], Step [1/18], Loss: 0.1473, Train Accuracy: 94.53%\n",
      "Epoch [35/100], Step [2/18], Loss: 0.1061, Train Accuracy: 96.09%\n",
      "Epoch [35/100], Step [3/18], Loss: 0.0994, Train Accuracy: 96.09%\n",
      "Epoch [35/100], Step [4/18], Loss: 0.0891, Train Accuracy: 98.44%\n",
      "Epoch [35/100], Step [5/18], Loss: 0.1166, Train Accuracy: 96.09%\n",
      "Epoch [35/100], Step [6/18], Loss: 0.0959, Train Accuracy: 95.31%\n",
      "Epoch [35/100], Step [7/18], Loss: 0.1449, Train Accuracy: 92.97%\n",
      "Epoch [35/100], Step [8/18], Loss: 0.1232, Train Accuracy: 94.53%\n",
      "Epoch [35/100], Step [9/18], Loss: 0.1189, Train Accuracy: 94.53%\n",
      "Epoch [35/100], Step [10/18], Loss: 0.0655, Train Accuracy: 99.22%\n",
      "Epoch [35/100], Step [11/18], Loss: 0.1352, Train Accuracy: 93.75%\n",
      "Epoch [35/100], Step [12/18], Loss: 0.1160, Train Accuracy: 95.31%\n",
      "Epoch [35/100], Step [13/18], Loss: 0.1232, Train Accuracy: 93.75%\n",
      "Epoch [35/100], Step [14/18], Loss: 0.1121, Train Accuracy: 95.31%\n",
      "Epoch [35/100], Step [15/18], Loss: 0.1028, Train Accuracy: 96.88%\n",
      "Epoch [35/100], Step [16/18], Loss: 0.0939, Train Accuracy: 96.09%\n",
      "Epoch [35/100], Step [17/18], Loss: 0.1499, Train Accuracy: 93.75%\n",
      "Epoch [35/100], Step [18/18], Loss: 0.0702, Train Accuracy: 96.88%\n",
      "Epoch [40/100], Step [1/18], Loss: 0.0785, Train Accuracy: 95.31%\n",
      "Epoch [40/100], Step [2/18], Loss: 0.0360, Train Accuracy: 100.00%\n",
      "Epoch [40/100], Step [3/18], Loss: 0.0963, Train Accuracy: 94.53%\n",
      "Epoch [40/100], Step [4/18], Loss: 0.0973, Train Accuracy: 97.66%\n",
      "Epoch [40/100], Step [5/18], Loss: 0.0561, Train Accuracy: 96.88%\n",
      "Epoch [40/100], Step [6/18], Loss: 0.1022, Train Accuracy: 96.09%\n",
      "Epoch [40/100], Step [7/18], Loss: 0.1244, Train Accuracy: 95.31%\n",
      "Epoch [40/100], Step [8/18], Loss: 0.1331, Train Accuracy: 92.97%\n",
      "Epoch [40/100], Step [9/18], Loss: 0.0964, Train Accuracy: 94.53%\n",
      "Epoch [40/100], Step [10/18], Loss: 0.0792, Train Accuracy: 97.66%\n",
      "Epoch [40/100], Step [11/18], Loss: 0.0425, Train Accuracy: 98.44%\n",
      "Epoch [40/100], Step [12/18], Loss: 0.1020, Train Accuracy: 96.09%\n",
      "Epoch [40/100], Step [13/18], Loss: 0.0704, Train Accuracy: 97.66%\n",
      "Epoch [40/100], Step [14/18], Loss: 0.0995, Train Accuracy: 94.53%\n",
      "Epoch [40/100], Step [15/18], Loss: 0.0693, Train Accuracy: 98.44%\n",
      "Epoch [40/100], Step [16/18], Loss: 0.0939, Train Accuracy: 95.31%\n",
      "Epoch [40/100], Step [17/18], Loss: 0.0733, Train Accuracy: 97.66%\n",
      "Epoch [40/100], Step [18/18], Loss: 0.1030, Train Accuracy: 95.31%\n",
      "Epoch [45/100], Step [1/18], Loss: 0.0970, Train Accuracy: 93.75%\n",
      "Epoch [45/100], Step [2/18], Loss: 0.0778, Train Accuracy: 96.88%\n",
      "Epoch [45/100], Step [3/18], Loss: 0.1290, Train Accuracy: 92.97%\n",
      "Epoch [45/100], Step [4/18], Loss: 0.0571, Train Accuracy: 97.66%\n",
      "Epoch [45/100], Step [5/18], Loss: 0.0952, Train Accuracy: 96.88%\n",
      "Epoch [45/100], Step [6/18], Loss: 0.1165, Train Accuracy: 92.97%\n",
      "Epoch [45/100], Step [7/18], Loss: 0.0733, Train Accuracy: 97.66%\n",
      "Epoch [45/100], Step [8/18], Loss: 0.0844, Train Accuracy: 96.88%\n",
      "Epoch [45/100], Step [9/18], Loss: 0.0617, Train Accuracy: 96.88%\n",
      "Epoch [45/100], Step [10/18], Loss: 0.1354, Train Accuracy: 95.31%\n",
      "Epoch [45/100], Step [11/18], Loss: 0.1186, Train Accuracy: 96.88%\n",
      "Epoch [45/100], Step [12/18], Loss: 0.1127, Train Accuracy: 94.53%\n",
      "Epoch [45/100], Step [13/18], Loss: 0.0412, Train Accuracy: 98.44%\n",
      "Epoch [45/100], Step [14/18], Loss: 0.0830, Train Accuracy: 96.88%\n",
      "Epoch [45/100], Step [15/18], Loss: 0.0772, Train Accuracy: 97.66%\n",
      "Epoch [45/100], Step [16/18], Loss: 0.0580, Train Accuracy: 98.44%\n",
      "Epoch [45/100], Step [17/18], Loss: 0.0859, Train Accuracy: 99.22%\n",
      "Epoch [45/100], Step [18/18], Loss: 0.1319, Train Accuracy: 92.19%\n",
      "Epoch [50/100], Step [1/18], Loss: 0.0559, Train Accuracy: 97.66%\n",
      "Epoch [50/100], Step [2/18], Loss: 0.0684, Train Accuracy: 97.66%\n",
      "Epoch [50/100], Step [3/18], Loss: 0.0463, Train Accuracy: 98.44%\n",
      "Epoch [50/100], Step [4/18], Loss: 0.0487, Train Accuracy: 98.44%\n",
      "Epoch [50/100], Step [5/18], Loss: 0.0617, Train Accuracy: 97.66%\n",
      "Epoch [50/100], Step [6/18], Loss: 0.0962, Train Accuracy: 96.09%\n",
      "Epoch [50/100], Step [7/18], Loss: 0.0489, Train Accuracy: 99.22%\n",
      "Epoch [50/100], Step [8/18], Loss: 0.0265, Train Accuracy: 99.22%\n",
      "Epoch [50/100], Step [9/18], Loss: 0.0436, Train Accuracy: 98.44%\n",
      "Epoch [50/100], Step [10/18], Loss: 0.0469, Train Accuracy: 98.44%\n",
      "Epoch [50/100], Step [11/18], Loss: 0.0685, Train Accuracy: 98.44%\n",
      "Epoch [50/100], Step [12/18], Loss: 0.1450, Train Accuracy: 92.97%\n",
      "Epoch [50/100], Step [13/18], Loss: 0.0308, Train Accuracy: 99.22%\n",
      "Epoch [50/100], Step [14/18], Loss: 0.0424, Train Accuracy: 98.44%\n",
      "Epoch [50/100], Step [15/18], Loss: 0.0611, Train Accuracy: 97.66%\n",
      "Epoch [50/100], Step [16/18], Loss: 0.0658, Train Accuracy: 99.22%\n",
      "Epoch [50/100], Step [17/18], Loss: 0.0224, Train Accuracy: 100.00%\n",
      "Epoch [50/100], Step [18/18], Loss: 0.0203, Train Accuracy: 100.00%\n",
      "Epoch [55/100], Step [1/18], Loss: 0.0291, Train Accuracy: 99.22%\n",
      "Epoch [55/100], Step [2/18], Loss: 0.0303, Train Accuracy: 98.44%\n",
      "Epoch [55/100], Step [3/18], Loss: 0.0286, Train Accuracy: 97.66%\n",
      "Epoch [55/100], Step [4/18], Loss: 0.0260, Train Accuracy: 99.22%\n",
      "Epoch [55/100], Step [5/18], Loss: 0.0342, Train Accuracy: 98.44%\n",
      "Epoch [55/100], Step [6/18], Loss: 0.0161, Train Accuracy: 100.00%\n",
      "Epoch [55/100], Step [7/18], Loss: 0.0303, Train Accuracy: 99.22%\n",
      "Epoch [55/100], Step [8/18], Loss: 0.0429, Train Accuracy: 99.22%\n",
      "Epoch [55/100], Step [9/18], Loss: 0.0292, Train Accuracy: 99.22%\n",
      "Epoch [55/100], Step [10/18], Loss: 0.0178, Train Accuracy: 100.00%\n",
      "Epoch [55/100], Step [11/18], Loss: 0.0302, Train Accuracy: 100.00%\n",
      "Epoch [55/100], Step [12/18], Loss: 0.0322, Train Accuracy: 99.22%\n",
      "Epoch [55/100], Step [13/18], Loss: 0.0339, Train Accuracy: 98.44%\n",
      "Epoch [55/100], Step [14/18], Loss: 0.0205, Train Accuracy: 99.22%\n",
      "Epoch [55/100], Step [15/18], Loss: 0.0417, Train Accuracy: 96.88%\n",
      "Epoch [55/100], Step [16/18], Loss: 0.0225, Train Accuracy: 100.00%\n",
      "Epoch [55/100], Step [17/18], Loss: 0.0105, Train Accuracy: 100.00%\n",
      "Epoch [55/100], Step [18/18], Loss: 0.1736, Train Accuracy: 93.75%\n",
      "Epoch [60/100], Step [1/18], Loss: 0.0585, Train Accuracy: 97.66%\n",
      "Epoch [60/100], Step [2/18], Loss: 0.0389, Train Accuracy: 99.22%\n",
      "Epoch [60/100], Step [3/18], Loss: 0.0400, Train Accuracy: 98.44%\n",
      "Epoch [60/100], Step [4/18], Loss: 0.0261, Train Accuracy: 100.00%\n",
      "Epoch [60/100], Step [5/18], Loss: 0.0552, Train Accuracy: 96.88%\n",
      "Epoch [60/100], Step [6/18], Loss: 0.0195, Train Accuracy: 99.22%\n",
      "Epoch [60/100], Step [7/18], Loss: 0.0178, Train Accuracy: 99.22%\n",
      "Epoch [60/100], Step [8/18], Loss: 0.0411, Train Accuracy: 98.44%\n",
      "Epoch [60/100], Step [9/18], Loss: 0.0163, Train Accuracy: 100.00%\n",
      "Epoch [60/100], Step [10/18], Loss: 0.0384, Train Accuracy: 98.44%\n",
      "Epoch [60/100], Step [11/18], Loss: 0.0307, Train Accuracy: 98.44%\n",
      "Epoch [60/100], Step [12/18], Loss: 0.0782, Train Accuracy: 97.66%\n",
      "Epoch [60/100], Step [13/18], Loss: 0.0495, Train Accuracy: 97.66%\n",
      "Epoch [60/100], Step [14/18], Loss: 0.0293, Train Accuracy: 99.22%\n",
      "Epoch [60/100], Step [15/18], Loss: 0.0280, Train Accuracy: 99.22%\n",
      "Epoch [60/100], Step [16/18], Loss: 0.0504, Train Accuracy: 98.44%\n",
      "Epoch [60/100], Step [17/18], Loss: 0.0516, Train Accuracy: 99.22%\n",
      "Epoch [60/100], Step [18/18], Loss: 0.0169, Train Accuracy: 100.00%\n",
      "Epoch [65/100], Step [1/18], Loss: 0.0161, Train Accuracy: 100.00%\n",
      "Epoch [65/100], Step [2/18], Loss: 0.0181, Train Accuracy: 99.22%\n",
      "Epoch [65/100], Step [3/18], Loss: 0.0637, Train Accuracy: 97.66%\n",
      "Epoch [65/100], Step [4/18], Loss: 0.0925, Train Accuracy: 95.31%\n",
      "Epoch [65/100], Step [5/18], Loss: 0.0153, Train Accuracy: 100.00%\n",
      "Epoch [65/100], Step [6/18], Loss: 0.0269, Train Accuracy: 98.44%\n",
      "Epoch [65/100], Step [7/18], Loss: 0.1076, Train Accuracy: 95.31%\n",
      "Epoch [65/100], Step [8/18], Loss: 0.0532, Train Accuracy: 97.66%\n",
      "Epoch [65/100], Step [9/18], Loss: 0.0147, Train Accuracy: 99.22%\n",
      "Epoch [65/100], Step [10/18], Loss: 0.0533, Train Accuracy: 96.88%\n",
      "Epoch [65/100], Step [11/18], Loss: 0.0526, Train Accuracy: 97.66%\n",
      "Epoch [65/100], Step [12/18], Loss: 0.1069, Train Accuracy: 96.88%\n",
      "Epoch [65/100], Step [13/18], Loss: 0.0570, Train Accuracy: 99.22%\n",
      "Epoch [65/100], Step [14/18], Loss: 0.0533, Train Accuracy: 97.66%\n"
     ]
    },
    {
     "name": "stdout",
     "output_type": "stream",
     "text": [
      "Epoch [65/100], Step [15/18], Loss: 0.2917, Train Accuracy: 87.50%\n",
      "Epoch [65/100], Step [16/18], Loss: 0.0235, Train Accuracy: 100.00%\n",
      "Epoch [65/100], Step [17/18], Loss: 0.0360, Train Accuracy: 99.22%\n",
      "Epoch [65/100], Step [18/18], Loss: 0.1063, Train Accuracy: 93.75%\n",
      "Epoch [70/100], Step [1/18], Loss: 0.0191, Train Accuracy: 99.22%\n",
      "Epoch [70/100], Step [2/18], Loss: 0.0235, Train Accuracy: 99.22%\n",
      "Epoch [70/100], Step [3/18], Loss: 0.0215, Train Accuracy: 99.22%\n",
      "Epoch [70/100], Step [4/18], Loss: 0.0112, Train Accuracy: 99.22%\n",
      "Epoch [70/100], Step [5/18], Loss: 0.0093, Train Accuracy: 100.00%\n",
      "Epoch [70/100], Step [6/18], Loss: 0.0161, Train Accuracy: 99.22%\n",
      "Epoch [70/100], Step [7/18], Loss: 0.0079, Train Accuracy: 100.00%\n",
      "Epoch [70/100], Step [8/18], Loss: 0.0244, Train Accuracy: 99.22%\n",
      "Epoch [70/100], Step [9/18], Loss: 0.0199, Train Accuracy: 99.22%\n",
      "Epoch [70/100], Step [10/18], Loss: 0.0184, Train Accuracy: 99.22%\n",
      "Epoch [70/100], Step [11/18], Loss: 0.0276, Train Accuracy: 99.22%\n",
      "Epoch [70/100], Step [12/18], Loss: 0.0528, Train Accuracy: 96.88%\n",
      "Epoch [70/100], Step [13/18], Loss: 0.0058, Train Accuracy: 100.00%\n",
      "Epoch [70/100], Step [14/18], Loss: 0.0095, Train Accuracy: 100.00%\n",
      "Epoch [70/100], Step [15/18], Loss: 0.0038, Train Accuracy: 100.00%\n",
      "Epoch [70/100], Step [16/18], Loss: 0.0147, Train Accuracy: 100.00%\n",
      "Epoch [70/100], Step [17/18], Loss: 0.0193, Train Accuracy: 99.22%\n",
      "Epoch [70/100], Step [18/18], Loss: 0.0064, Train Accuracy: 100.00%\n",
      "Epoch [75/100], Step [1/18], Loss: 0.0074, Train Accuracy: 100.00%\n",
      "Epoch [75/100], Step [2/18], Loss: 0.0143, Train Accuracy: 99.22%\n",
      "Epoch [75/100], Step [3/18], Loss: 0.0290, Train Accuracy: 99.22%\n",
      "Epoch [75/100], Step [4/18], Loss: 0.0176, Train Accuracy: 100.00%\n",
      "Epoch [75/100], Step [5/18], Loss: 0.0053, Train Accuracy: 100.00%\n",
      "Epoch [75/100], Step [6/18], Loss: 0.0237, Train Accuracy: 99.22%\n",
      "Epoch [75/100], Step [7/18], Loss: 0.0366, Train Accuracy: 97.66%\n",
      "Epoch [75/100], Step [8/18], Loss: 0.0093, Train Accuracy: 100.00%\n",
      "Epoch [75/100], Step [9/18], Loss: 0.0049, Train Accuracy: 100.00%\n",
      "Epoch [75/100], Step [10/18], Loss: 0.0081, Train Accuracy: 100.00%\n",
      "Epoch [75/100], Step [11/18], Loss: 0.0132, Train Accuracy: 100.00%\n",
      "Epoch [75/100], Step [12/18], Loss: 0.0136, Train Accuracy: 100.00%\n",
      "Epoch [75/100], Step [13/18], Loss: 0.0137, Train Accuracy: 99.22%\n",
      "Epoch [75/100], Step [14/18], Loss: 0.0104, Train Accuracy: 100.00%\n",
      "Epoch [75/100], Step [15/18], Loss: 0.0272, Train Accuracy: 99.22%\n",
      "Epoch [75/100], Step [16/18], Loss: 0.0098, Train Accuracy: 99.22%\n",
      "Epoch [75/100], Step [17/18], Loss: 0.0142, Train Accuracy: 100.00%\n",
      "Epoch [75/100], Step [18/18], Loss: 0.0507, Train Accuracy: 98.44%\n",
      "Epoch [80/100], Step [1/18], Loss: 0.0044, Train Accuracy: 100.00%\n",
      "Epoch [80/100], Step [2/18], Loss: 0.0032, Train Accuracy: 100.00%\n",
      "Epoch [80/100], Step [3/18], Loss: 0.0036, Train Accuracy: 100.00%\n",
      "Epoch [80/100], Step [4/18], Loss: 0.0041, Train Accuracy: 100.00%\n",
      "Epoch [80/100], Step [5/18], Loss: 0.0052, Train Accuracy: 100.00%\n",
      "Epoch [80/100], Step [6/18], Loss: 0.0053, Train Accuracy: 100.00%\n",
      "Epoch [80/100], Step [7/18], Loss: 0.0056, Train Accuracy: 100.00%\n",
      "Epoch [80/100], Step [8/18], Loss: 0.0029, Train Accuracy: 100.00%\n",
      "Epoch [80/100], Step [9/18], Loss: 0.0056, Train Accuracy: 100.00%\n",
      "Epoch [80/100], Step [10/18], Loss: 0.0210, Train Accuracy: 99.22%\n",
      "Epoch [80/100], Step [11/18], Loss: 0.0063, Train Accuracy: 100.00%\n",
      "Epoch [80/100], Step [12/18], Loss: 0.0024, Train Accuracy: 100.00%\n",
      "Epoch [80/100], Step [13/18], Loss: 0.0121, Train Accuracy: 99.22%\n",
      "Epoch [80/100], Step [14/18], Loss: 0.0026, Train Accuracy: 100.00%\n",
      "Epoch [80/100], Step [15/18], Loss: 0.0104, Train Accuracy: 99.22%\n",
      "Epoch [80/100], Step [16/18], Loss: 0.0048, Train Accuracy: 100.00%\n",
      "Epoch [80/100], Step [17/18], Loss: 0.0052, Train Accuracy: 100.00%\n",
      "Epoch [80/100], Step [18/18], Loss: 0.0048, Train Accuracy: 100.00%\n",
      "Epoch [85/100], Step [1/18], Loss: 0.0171, Train Accuracy: 99.22%\n",
      "Epoch [85/100], Step [2/18], Loss: 0.0062, Train Accuracy: 100.00%\n",
      "Epoch [85/100], Step [3/18], Loss: 0.0078, Train Accuracy: 100.00%\n",
      "Epoch [85/100], Step [4/18], Loss: 0.0075, Train Accuracy: 100.00%\n",
      "Epoch [85/100], Step [5/18], Loss: 0.0035, Train Accuracy: 100.00%\n",
      "Epoch [85/100], Step [6/18], Loss: 0.0116, Train Accuracy: 99.22%\n",
      "Epoch [85/100], Step [7/18], Loss: 0.0117, Train Accuracy: 100.00%\n",
      "Epoch [85/100], Step [8/18], Loss: 0.0035, Train Accuracy: 100.00%\n",
      "Epoch [85/100], Step [9/18], Loss: 0.0037, Train Accuracy: 100.00%\n",
      "Epoch [85/100], Step [10/18], Loss: 0.0141, Train Accuracy: 99.22%\n",
      "Epoch [85/100], Step [11/18], Loss: 0.0042, Train Accuracy: 100.00%\n",
      "Epoch [85/100], Step [12/18], Loss: 0.0032, Train Accuracy: 100.00%\n",
      "Epoch [85/100], Step [13/18], Loss: 0.0018, Train Accuracy: 100.00%\n",
      "Epoch [85/100], Step [14/18], Loss: 0.0012, Train Accuracy: 100.00%\n",
      "Epoch [85/100], Step [15/18], Loss: 0.0043, Train Accuracy: 100.00%\n",
      "Epoch [85/100], Step [16/18], Loss: 0.0122, Train Accuracy: 100.00%\n",
      "Epoch [85/100], Step [17/18], Loss: 0.0026, Train Accuracy: 100.00%\n",
      "Epoch [85/100], Step [18/18], Loss: 0.0015, Train Accuracy: 100.00%\n",
      "Epoch [90/100], Step [1/18], Loss: 0.0178, Train Accuracy: 99.22%\n",
      "Epoch [90/100], Step [2/18], Loss: 0.0984, Train Accuracy: 98.44%\n",
      "Epoch [90/100], Step [3/18], Loss: 0.0060, Train Accuracy: 100.00%\n",
      "Epoch [90/100], Step [4/18], Loss: 0.0052, Train Accuracy: 100.00%\n",
      "Epoch [90/100], Step [5/18], Loss: 0.2010, Train Accuracy: 95.31%\n",
      "Epoch [90/100], Step [6/18], Loss: 0.0045, Train Accuracy: 100.00%\n",
      "Epoch [90/100], Step [7/18], Loss: 0.4034, Train Accuracy: 96.88%\n",
      "Epoch [90/100], Step [8/18], Loss: 0.9707, Train Accuracy: 91.41%\n",
      "Epoch [90/100], Step [9/18], Loss: 0.1644, Train Accuracy: 96.09%\n",
      "Epoch [90/100], Step [10/18], Loss: 0.1918, Train Accuracy: 93.75%\n",
      "Epoch [90/100], Step [11/18], Loss: 0.0225, Train Accuracy: 99.22%\n",
      "Epoch [90/100], Step [12/18], Loss: 0.6248, Train Accuracy: 86.72%\n",
      "Epoch [90/100], Step [13/18], Loss: 0.0213, Train Accuracy: 99.22%\n",
      "Epoch [90/100], Step [14/18], Loss: 1.6124, Train Accuracy: 80.47%\n",
      "Epoch [90/100], Step [15/18], Loss: 0.8347, Train Accuracy: 77.34%\n",
      "Epoch [90/100], Step [16/18], Loss: 0.1354, Train Accuracy: 96.88%\n",
      "Epoch [90/100], Step [17/18], Loss: 0.0353, Train Accuracy: 98.44%\n",
      "Epoch [90/100], Step [18/18], Loss: 0.8261, Train Accuracy: 82.81%\n",
      "Epoch [95/100], Step [1/18], Loss: 0.0050, Train Accuracy: 100.00%\n",
      "Epoch [95/100], Step [2/18], Loss: 0.0036, Train Accuracy: 100.00%\n",
      "Epoch [95/100], Step [3/18], Loss: 0.0333, Train Accuracy: 98.44%\n",
      "Epoch [95/100], Step [4/18], Loss: 0.0130, Train Accuracy: 99.22%\n",
      "Epoch [95/100], Step [5/18], Loss: 0.0122, Train Accuracy: 100.00%\n",
      "Epoch [95/100], Step [6/18], Loss: 0.0078, Train Accuracy: 100.00%\n",
      "Epoch [95/100], Step [7/18], Loss: 0.0062, Train Accuracy: 100.00%\n",
      "Epoch [95/100], Step [8/18], Loss: 0.0111, Train Accuracy: 100.00%\n",
      "Epoch [95/100], Step [9/18], Loss: 0.0055, Train Accuracy: 100.00%\n",
      "Epoch [95/100], Step [10/18], Loss: 0.0057, Train Accuracy: 100.00%\n",
      "Epoch [95/100], Step [11/18], Loss: 0.0086, Train Accuracy: 100.00%\n",
      "Epoch [95/100], Step [12/18], Loss: 0.0227, Train Accuracy: 99.22%\n",
      "Epoch [95/100], Step [13/18], Loss: 0.0181, Train Accuracy: 99.22%\n",
      "Epoch [95/100], Step [14/18], Loss: 0.0134, Train Accuracy: 99.22%\n",
      "Epoch [95/100], Step [15/18], Loss: 0.0132, Train Accuracy: 99.22%\n",
      "Epoch [95/100], Step [16/18], Loss: 0.0208, Train Accuracy: 98.44%\n",
      "Epoch [95/100], Step [17/18], Loss: 0.0098, Train Accuracy: 100.00%\n",
      "Epoch [95/100], Step [18/18], Loss: 0.0295, Train Accuracy: 98.44%\n",
      "Epoch [100/100], Step [1/18], Loss: 0.0048, Train Accuracy: 100.00%\n",
      "Epoch [100/100], Step [2/18], Loss: 0.0011, Train Accuracy: 100.00%\n",
      "Epoch [100/100], Step [3/18], Loss: 0.0064, Train Accuracy: 100.00%\n",
      "Epoch [100/100], Step [4/18], Loss: 0.0017, Train Accuracy: 100.00%\n",
      "Epoch [100/100], Step [5/18], Loss: 0.0058, Train Accuracy: 100.00%\n",
      "Epoch [100/100], Step [6/18], Loss: 0.0042, Train Accuracy: 100.00%\n",
      "Epoch [100/100], Step [7/18], Loss: 0.0052, Train Accuracy: 100.00%\n",
      "Epoch [100/100], Step [8/18], Loss: 0.0033, Train Accuracy: 100.00%\n",
      "Epoch [100/100], Step [9/18], Loss: 0.0088, Train Accuracy: 100.00%\n",
      "Epoch [100/100], Step [10/18], Loss: 0.0020, Train Accuracy: 100.00%\n",
      "Epoch [100/100], Step [11/18], Loss: 0.0141, Train Accuracy: 99.22%\n",
      "Epoch [100/100], Step [12/18], Loss: 0.0039, Train Accuracy: 100.00%\n"
     ]
    },
    {
     "name": "stdout",
     "output_type": "stream",
     "text": [
      "Epoch [100/100], Step [13/18], Loss: 0.0207, Train Accuracy: 99.22%\n",
      "Epoch [100/100], Step [14/18], Loss: 0.0122, Train Accuracy: 100.00%\n",
      "Epoch [100/100], Step [15/18], Loss: 0.0217, Train Accuracy: 99.22%\n",
      "Epoch [100/100], Step [16/18], Loss: 0.0081, Train Accuracy: 100.00%\n",
      "Epoch [100/100], Step [17/18], Loss: 0.0056, Train Accuracy: 100.00%\n",
      "Epoch [100/100], Step [18/18], Loss: 0.0018, Train Accuracy: 100.00%\n"
     ]
    }
   ],
   "source": [
    "total_step = len(train_loader)\n",
    "loss_list = []\n",
    "acc_list = []\n",
    "for epoch in range(num_epochs):\n",
    "    for i, (signals, labels) in enumerate(train_loader):\n",
    "        optimizer.zero_grad()\n",
    "        # Run the forward pass\n",
    "        signals=signals\n",
    "        labels=labels\n",
    "        outputs = cnn(signals.double())\n",
    "        loss = criterion(outputs, labels.long())\n",
    "        \n",
    "        loss_list.append(loss.item())\n",
    "\n",
    "        # Backprop and perform Adam optimisation\n",
    "        \n",
    "        loss.backward()\n",
    "        optimizer.step()\n",
    "        # Track the accuracy\n",
    "        total = labels.size(0)\n",
    "        _, predicted = torch.max(outputs.data, 1)\n",
    "        correct = (predicted == labels.long()).sum().item()\n",
    "        acc_list.append(correct / total)\n",
    "\n",
    "        if (epoch+1) % 5 == 0 or epoch==0:\n",
    "            print('Epoch [{}/{}], Step [{}/{}], Loss: {:.4f}, Train Accuracy: {:.2f}%'\n",
    "                  .format(epoch + 1, num_epochs, i + 1, total_step, loss.item(),\n",
    "                          (correct / total) * 100))\n",
    "        "
   ]
  },
  {
   "cell_type": "code",
   "execution_count": 28,
   "metadata": {},
   "outputs": [
    {
     "name": "stdout",
     "output_type": "stream",
     "text": [
      "1\n",
      "Epoch [100/100], Step [1/1], Loss: 0.0686, Accuracy: 97.50%\n"
     ]
    }
   ],
   "source": [
    "total_step = len(test_loader)\n",
    "print(total_step)\n",
    "loss_list_test = []\n",
    "acc_list_test = []\n",
    "with torch.no_grad():\n",
    "    for i, (signals, labels) in enumerate(test_loader):\n",
    "        # Run the forward pass\n",
    "        signals=signals\n",
    "        labels=labels\n",
    "        outputs = cnn(signals.double())\n",
    "        loss = criterion(outputs, labels.long())\n",
    "        loss_list_test.append(loss.item())\n",
    "        if epoch%10 ==0:\n",
    "            print(loss)\n",
    "        total = labels.size(0)\n",
    "        _, predicted = torch.max(outputs.data, 1)\n",
    "        correct = (predicted == labels.long()).sum().item()\n",
    "        acc_list_test.append(correct / total)\n",
    "        if (epoch) % 1 == 0:\n",
    "            print('Epoch [{}/{}], Step [{}/{}], Loss: {:.4f}, Accuracy: {:.2f}%'\n",
    "                  .format(epoch + 1, num_epochs, i + 1, total_step, loss.item(),\n",
    "                          (correct / total) * 100))"
   ]
  },
  {
   "cell_type": "code",
   "execution_count": null,
   "metadata": {},
   "outputs": [],
   "source": [
    "# if you need to save\n",
    "torch.save(cnn,'cnnTC3_fold3_45.pth')"
   ]
  },
  {
   "cell_type": "code",
   "execution_count": null,
   "metadata": {},
   "outputs": [],
   "source": []
  }
 ],
 "metadata": {
  "kernelspec": {
   "display_name": "Python 3",
   "language": "python",
   "name": "python3"
  },
  "language_info": {
   "codemirror_mode": {
    "name": "ipython",
    "version": 3
   },
   "file_extension": ".py",
   "mimetype": "text/x-python",
   "name": "python",
   "nbconvert_exporter": "python",
   "pygments_lexer": "ipython3",
   "version": "3.7.4"
  }
 },
 "nbformat": 4,
 "nbformat_minor": 2
}
