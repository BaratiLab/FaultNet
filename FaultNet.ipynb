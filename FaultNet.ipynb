{
 "cells": [
  {
   "cell_type": "code",
   "execution_count": 1,
   "metadata": {},
   "outputs": [],
   "source": [
    "import numpy as np\n",
    "import pandas as pd"
   ]
  },
  {
   "cell_type": "code",
   "execution_count": 2,
   "metadata": {},
   "outputs": [],
   "source": [
    "import torch\n",
    "import torch.nn as nn\n",
    "from torchvision.datasets import CIFAR10\n",
    "from torchvision.transforms import transforms\n",
    "from torch.utils.data import DataLoader\n",
    "from torch.optim import Adam\n",
    "from torch.autograd import Variable\n",
    "import torch.nn.functional as F"
   ]
  },
  {
   "cell_type": "code",
   "execution_count": 3,
   "metadata": {},
   "outputs": [],
   "source": [
    "data = np.load('CWRU_dataset.npy')\n",
    "labels = np.load('CWRU_lables.npy')"
   ]
  },
  {
   "cell_type": "code",
   "execution_count": 4,
   "metadata": {},
   "outputs": [],
   "source": [
    "x=data[:,0:1600]"
   ]
  },
  {
   "cell_type": "code",
   "execution_count": 5,
   "metadata": {},
   "outputs": [],
   "source": [
    "def mean(data,no_elements):\n",
    "    X=np.zeros((data.shape[0],data.shape[1]))\n",
    "    for i in range(data.shape[1]-no_elements+1):\n",
    "        X[:,i]=np.mean(data[:,i:i+no_elements],axis=1)\n",
    "    return X.astype(np.float16)\n",
    "def median(data,no_elements):\n",
    "    X=np.zeros((data.shape[0],data.shape[1]))\n",
    "    for i in range(data.shape[1]-no_elements+1):\n",
    "        X[:,i]=np.median(data[:,i:i+no_elements],axis=1)\n",
    "    return X.astype(np.float16)\n",
    "def sig_image(data,size):\n",
    "    X=np.zeros((data.shape[0],size,size))\n",
    "    for i in range(data.shape[0]):\n",
    "        X[i]=(data[i,:].reshape(size,size))\n",
    "    return X.astype(np.float16)"
   ]
  },
  {
   "cell_type": "code",
   "execution_count": 6,
   "metadata": {},
   "outputs": [],
   "source": [
    "channel_mean=(mean(x,10)).astype(np.float16)\n",
    "x_m=sig_image(channel_mean,40)\n",
    "channel_median=(median(x,10)).astype(np.float16)\n",
    "x_md=sig_image(x,40)"
   ]
  },
  {
   "cell_type": "code",
   "execution_count": 7,
   "metadata": {},
   "outputs": [],
   "source": [
    "x_n=sig_image(x,40)"
   ]
  },
  {
   "cell_type": "code",
   "execution_count": 8,
   "metadata": {},
   "outputs": [
    {
     "data": {
      "text/plain": [
       "(2800, 40, 40)"
      ]
     },
     "execution_count": 8,
     "metadata": {},
     "output_type": "execute_result"
    }
   ],
   "source": [
    "x_n.shape"
   ]
  },
  {
   "cell_type": "code",
   "execution_count": 9,
   "metadata": {},
   "outputs": [
    {
     "data": {
      "text/plain": [
       "(2800, 40, 40)"
      ]
     },
     "execution_count": 9,
     "metadata": {},
     "output_type": "execute_result"
    }
   ],
   "source": [
    "x_m.shape"
   ]
  },
  {
   "cell_type": "code",
   "execution_count": 10,
   "metadata": {},
   "outputs": [],
   "source": [
    "X=np.stack((x_n,x_m,x_md),axis=1).astype(np.float16)"
   ]
  },
  {
   "cell_type": "code",
   "execution_count": 11,
   "metadata": {},
   "outputs": [
    {
     "data": {
      "text/plain": [
       "(2800, 3, 40, 40)"
      ]
     },
     "execution_count": 11,
     "metadata": {},
     "output_type": "execute_result"
    }
   ],
   "source": [
    "X.shape"
   ]
  },
  {
   "cell_type": "code",
   "execution_count": 12,
   "metadata": {},
   "outputs": [],
   "source": [
    "from sklearn.model_selection import train_test_split\n",
    "trainx, testx, trainlabel, testlabel = train_test_split(X, labels, test_size=0.2, random_state=20)"
   ]
  },
  {
   "cell_type": "code",
   "execution_count": 13,
   "metadata": {},
   "outputs": [],
   "source": [
    "sig_train, sig_test = trainx,testx\n",
    "lab_train, lab_test = trainlabel,testlabel"
   ]
  },
  {
   "cell_type": "code",
   "execution_count": 14,
   "metadata": {},
   "outputs": [],
   "source": [
    "sig_train = torch.from_numpy(sig_train)\n",
    "sig_test = torch.from_numpy(sig_test)\n",
    "lab_train= torch.from_numpy(lab_train)\n",
    "lab_test = torch.from_numpy(lab_test)"
   ]
  },
  {
   "cell_type": "code",
   "execution_count": 15,
   "metadata": {},
   "outputs": [],
   "source": [
    "import torch.utils.data as data_utils\n",
    "batch_size = 128 \n",
    "train_tensor = data_utils.TensorDataset(sig_train, lab_train) \n",
    "train_loader = data_utils.DataLoader(dataset = train_tensor, batch_size = batch_size, shuffle = True)"
   ]
  },
  {
   "cell_type": "code",
   "execution_count": 16,
   "metadata": {},
   "outputs": [],
   "source": [
    "batch_size = 1024\n",
    "test_tensor = data_utils.TensorDataset(sig_test, lab_test) \n",
    "test_loader = data_utils.DataLoader(dataset = test_tensor, batch_size = batch_size, shuffle = False)"
   ]
  },
  {
   "cell_type": "code",
   "execution_count": 17,
   "metadata": {},
   "outputs": [
    {
     "data": {
      "text/plain": [
       "torch.Size([2240, 3, 40, 40])"
      ]
     },
     "execution_count": 17,
     "metadata": {},
     "output_type": "execute_result"
    }
   ],
   "source": [
    "sig_train.size()"
   ]
  },
  {
   "cell_type": "code",
   "execution_count": 18,
   "metadata": {},
   "outputs": [
    {
     "data": {
      "text/plain": [
       "torch.Size([560, 3, 40, 40])"
      ]
     },
     "execution_count": 18,
     "metadata": {},
     "output_type": "execute_result"
    }
   ],
   "source": [
    "sig_test.size()"
   ]
  },
  {
   "cell_type": "code",
   "execution_count": 19,
   "metadata": {},
   "outputs": [],
   "source": [
    "class CNN(nn.Module):\n",
    "    def __init__(self):\n",
    "        super(CNN, self).__init__()\n",
    "        self.conv1 = nn.Conv2d(3, 32, kernel_size=4,stride=1,padding = 1)\n",
    "        self.mp1 = nn.MaxPool2d(kernel_size=4,stride=2)\n",
    "        self.conv2 = nn.Conv2d(32,64, kernel_size=4,stride =1)\n",
    "        self.mp2 = nn.MaxPool2d(kernel_size=4,stride=2)\n",
    "        self.fc1= nn.Linear(2304,256)\n",
    "        self.dp1 = nn.Dropout(p=0.2)\n",
    "        self.fc2 = nn.Linear(256,10)\n",
    "\n",
    "    def forward(self, x):\n",
    "        in_size = x.size(0)\n",
    "        x = F.relu(self.mp1(self.conv1(x)))\n",
    "        x = F.relu(self.mp2(self.conv2(x)))\n",
    "        x = x.view(in_size,-1)\n",
    "        x = F.relu(self.fc1(x))\n",
    "        x = self.dp1(x)\n",
    "        x = self.fc2(x)\n",
    "        \n",
    "        return F.log_softmax(x, dim=1)"
   ]
  },
  {
   "cell_type": "code",
   "execution_count": 21,
   "metadata": {},
   "outputs": [],
   "source": [
    "cnn = CNN().double()"
   ]
  },
  {
   "cell_type": "code",
   "execution_count": 22,
   "metadata": {},
   "outputs": [],
   "source": [
    "criterion = nn.CrossEntropyLoss()\n",
    "optimizer = torch.optim.Adam(cnn.parameters(), lr=0.001)"
   ]
  },
  {
   "cell_type": "code",
   "execution_count": 23,
   "metadata": {},
   "outputs": [],
   "source": [
    "num_epochs = 100"
   ]
  },
  {
   "cell_type": "code",
   "execution_count": 24,
   "metadata": {},
   "outputs": [
    {
     "name": "stdout",
     "output_type": "stream",
     "text": [
      "Epoch [1/100], Step [1/18], Loss: 2.3026, Train Accuracy: 15.62%\n",
      "Epoch [1/100], Step [2/18], Loss: 2.1436, Train Accuracy: 12.50%\n",
      "Epoch [1/100], Step [3/18], Loss: 2.2310, Train Accuracy: 7.81%\n",
      "Epoch [1/100], Step [4/18], Loss: 2.1341, Train Accuracy: 17.19%\n",
      "Epoch [1/100], Step [5/18], Loss: 1.9999, Train Accuracy: 17.97%\n",
      "Epoch [1/100], Step [6/18], Loss: 2.1688, Train Accuracy: 12.50%\n",
      "Epoch [1/100], Step [7/18], Loss: 1.9400, Train Accuracy: 21.09%\n",
      "Epoch [1/100], Step [8/18], Loss: 1.9452, Train Accuracy: 21.88%\n",
      "Epoch [1/100], Step [9/18], Loss: 1.8811, Train Accuracy: 20.31%\n",
      "Epoch [1/100], Step [10/18], Loss: 1.8257, Train Accuracy: 31.25%\n",
      "Epoch [1/100], Step [11/18], Loss: 1.8228, Train Accuracy: 29.69%\n",
      "Epoch [1/100], Step [12/18], Loss: 1.8597, Train Accuracy: 22.66%\n",
      "Epoch [1/100], Step [13/18], Loss: 1.8749, Train Accuracy: 20.31%\n",
      "Epoch [1/100], Step [14/18], Loss: 1.6941, Train Accuracy: 30.47%\n",
      "Epoch [1/100], Step [15/18], Loss: 1.7534, Train Accuracy: 34.38%\n",
      "Epoch [1/100], Step [16/18], Loss: 1.6761, Train Accuracy: 40.62%\n",
      "Epoch [1/100], Step [17/18], Loss: 1.6986, Train Accuracy: 34.38%\n",
      "Epoch [1/100], Step [18/18], Loss: 1.5173, Train Accuracy: 39.06%\n",
      "Epoch [5/100], Step [1/18], Loss: 0.5248, Train Accuracy: 82.03%\n",
      "Epoch [5/100], Step [2/18], Loss: 0.5242, Train Accuracy: 77.34%\n",
      "Epoch [5/100], Step [3/18], Loss: 0.4709, Train Accuracy: 83.59%\n",
      "Epoch [5/100], Step [4/18], Loss: 0.4358, Train Accuracy: 79.69%\n",
      "Epoch [5/100], Step [5/18], Loss: 0.3925, Train Accuracy: 82.03%\n",
      "Epoch [5/100], Step [6/18], Loss: 0.5974, Train Accuracy: 75.78%\n",
      "Epoch [5/100], Step [7/18], Loss: 0.5357, Train Accuracy: 77.34%\n",
      "Epoch [5/100], Step [8/18], Loss: 0.5182, Train Accuracy: 78.12%\n",
      "Epoch [5/100], Step [9/18], Loss: 0.4237, Train Accuracy: 87.50%\n",
      "Epoch [5/100], Step [10/18], Loss: 0.4703, Train Accuracy: 82.03%\n",
      "Epoch [5/100], Step [11/18], Loss: 0.5011, Train Accuracy: 78.91%\n",
      "Epoch [5/100], Step [12/18], Loss: 0.5537, Train Accuracy: 81.25%\n",
      "Epoch [5/100], Step [13/18], Loss: 0.4035, Train Accuracy: 78.91%\n",
      "Epoch [5/100], Step [14/18], Loss: 0.3534, Train Accuracy: 84.38%\n",
      "Epoch [5/100], Step [15/18], Loss: 0.4169, Train Accuracy: 82.81%\n",
      "Epoch [5/100], Step [16/18], Loss: 0.4446, Train Accuracy: 79.69%\n",
      "Epoch [5/100], Step [17/18], Loss: 0.4719, Train Accuracy: 81.25%\n",
      "Epoch [5/100], Step [18/18], Loss: 0.4198, Train Accuracy: 84.38%\n",
      "Epoch [10/100], Step [1/18], Loss: 0.2438, Train Accuracy: 85.16%\n",
      "Epoch [10/100], Step [2/18], Loss: 0.2763, Train Accuracy: 84.38%\n",
      "Epoch [10/100], Step [3/18], Loss: 0.2925, Train Accuracy: 86.72%\n",
      "Epoch [10/100], Step [4/18], Loss: 0.2496, Train Accuracy: 86.72%\n",
      "Epoch [10/100], Step [5/18], Loss: 0.2612, Train Accuracy: 86.72%\n",
      "Epoch [10/100], Step [6/18], Loss: 0.2786, Train Accuracy: 85.94%\n",
      "Epoch [10/100], Step [7/18], Loss: 0.2019, Train Accuracy: 88.28%\n",
      "Epoch [10/100], Step [8/18], Loss: 0.2146, Train Accuracy: 89.84%\n",
      "Epoch [10/100], Step [9/18], Loss: 0.2667, Train Accuracy: 88.28%\n",
      "Epoch [10/100], Step [10/18], Loss: 0.1891, Train Accuracy: 95.31%\n",
      "Epoch [10/100], Step [11/18], Loss: 0.2276, Train Accuracy: 89.06%\n",
      "Epoch [10/100], Step [12/18], Loss: 0.1835, Train Accuracy: 90.62%\n",
      "Epoch [10/100], Step [13/18], Loss: 0.2534, Train Accuracy: 86.72%\n",
      "Epoch [10/100], Step [14/18], Loss: 0.2559, Train Accuracy: 89.06%\n",
      "Epoch [10/100], Step [15/18], Loss: 0.2870, Train Accuracy: 85.16%\n",
      "Epoch [10/100], Step [16/18], Loss: 0.1968, Train Accuracy: 93.75%\n",
      "Epoch [10/100], Step [17/18], Loss: 0.1876, Train Accuracy: 89.84%\n",
      "Epoch [10/100], Step [18/18], Loss: 0.2809, Train Accuracy: 85.94%\n",
      "Epoch [15/100], Step [1/18], Loss: 0.1218, Train Accuracy: 96.09%\n",
      "Epoch [15/100], Step [2/18], Loss: 0.1407, Train Accuracy: 96.09%\n",
      "Epoch [15/100], Step [3/18], Loss: 0.1623, Train Accuracy: 92.97%\n",
      "Epoch [15/100], Step [4/18], Loss: 0.1418, Train Accuracy: 94.53%\n",
      "Epoch [15/100], Step [5/18], Loss: 0.1588, Train Accuracy: 93.75%\n",
      "Epoch [15/100], Step [6/18], Loss: 0.1397, Train Accuracy: 94.53%\n",
      "Epoch [15/100], Step [7/18], Loss: 0.1504, Train Accuracy: 92.19%\n",
      "Epoch [15/100], Step [8/18], Loss: 0.1919, Train Accuracy: 89.84%\n",
      "Epoch [15/100], Step [9/18], Loss: 0.2122, Train Accuracy: 89.06%\n",
      "Epoch [15/100], Step [10/18], Loss: 0.1703, Train Accuracy: 90.62%\n",
      "Epoch [15/100], Step [11/18], Loss: 0.1574, Train Accuracy: 92.97%\n",
      "Epoch [15/100], Step [12/18], Loss: 0.1435, Train Accuracy: 92.19%\n",
      "Epoch [15/100], Step [13/18], Loss: 0.1563, Train Accuracy: 91.41%\n",
      "Epoch [15/100], Step [14/18], Loss: 0.2563, Train Accuracy: 88.28%\n",
      "Epoch [15/100], Step [15/18], Loss: 0.1192, Train Accuracy: 92.19%\n",
      "Epoch [15/100], Step [16/18], Loss: 0.1354, Train Accuracy: 94.53%\n",
      "Epoch [15/100], Step [17/18], Loss: 0.1356, Train Accuracy: 95.31%\n",
      "Epoch [15/100], Step [18/18], Loss: 0.2137, Train Accuracy: 89.06%\n",
      "Epoch [20/100], Step [1/18], Loss: 0.0853, Train Accuracy: 97.66%\n",
      "Epoch [20/100], Step [2/18], Loss: 0.0960, Train Accuracy: 97.66%\n",
      "Epoch [20/100], Step [3/18], Loss: 0.0753, Train Accuracy: 97.66%\n",
      "Epoch [20/100], Step [4/18], Loss: 0.0764, Train Accuracy: 96.88%\n",
      "Epoch [20/100], Step [5/18], Loss: 0.1364, Train Accuracy: 94.53%\n",
      "Epoch [20/100], Step [6/18], Loss: 0.1054, Train Accuracy: 96.88%\n",
      "Epoch [20/100], Step [7/18], Loss: 0.0901, Train Accuracy: 96.88%\n",
      "Epoch [20/100], Step [8/18], Loss: 0.0772, Train Accuracy: 98.44%\n",
      "Epoch [20/100], Step [9/18], Loss: 0.1278, Train Accuracy: 96.09%\n",
      "Epoch [20/100], Step [10/18], Loss: 0.1452, Train Accuracy: 95.31%\n",
      "Epoch [20/100], Step [11/18], Loss: 0.0972, Train Accuracy: 96.88%\n",
      "Epoch [20/100], Step [12/18], Loss: 0.0929, Train Accuracy: 97.66%\n",
      "Epoch [20/100], Step [13/18], Loss: 0.1178, Train Accuracy: 95.31%\n",
      "Epoch [20/100], Step [14/18], Loss: 0.1393, Train Accuracy: 94.53%\n",
      "Epoch [20/100], Step [15/18], Loss: 0.1091, Train Accuracy: 96.09%\n",
      "Epoch [20/100], Step [16/18], Loss: 0.1630, Train Accuracy: 92.19%\n",
      "Epoch [20/100], Step [17/18], Loss: 0.1100, Train Accuracy: 96.88%\n",
      "Epoch [20/100], Step [18/18], Loss: 0.1205, Train Accuracy: 92.19%\n",
      "Epoch [25/100], Step [1/18], Loss: 0.0475, Train Accuracy: 99.22%\n",
      "Epoch [25/100], Step [2/18], Loss: 0.0773, Train Accuracy: 96.88%\n",
      "Epoch [25/100], Step [3/18], Loss: 0.1187, Train Accuracy: 95.31%\n",
      "Epoch [25/100], Step [4/18], Loss: 0.0437, Train Accuracy: 98.44%\n",
      "Epoch [25/100], Step [5/18], Loss: 0.0379, Train Accuracy: 100.00%\n",
      "Epoch [25/100], Step [6/18], Loss: 0.1490, Train Accuracy: 92.19%\n",
      "Epoch [25/100], Step [7/18], Loss: 0.0765, Train Accuracy: 96.88%\n",
      "Epoch [25/100], Step [8/18], Loss: 0.0581, Train Accuracy: 98.44%\n",
      "Epoch [25/100], Step [9/18], Loss: 0.0425, Train Accuracy: 98.44%\n",
      "Epoch [25/100], Step [10/18], Loss: 0.0843, Train Accuracy: 96.88%\n",
      "Epoch [25/100], Step [11/18], Loss: 0.0653, Train Accuracy: 96.09%\n",
      "Epoch [25/100], Step [12/18], Loss: 0.0563, Train Accuracy: 98.44%\n",
      "Epoch [25/100], Step [13/18], Loss: 0.0572, Train Accuracy: 97.66%\n",
      "Epoch [25/100], Step [14/18], Loss: 0.0758, Train Accuracy: 96.09%\n",
      "Epoch [25/100], Step [15/18], Loss: 0.0483, Train Accuracy: 98.44%\n",
      "Epoch [25/100], Step [16/18], Loss: 0.0449, Train Accuracy: 99.22%\n",
      "Epoch [25/100], Step [17/18], Loss: 0.0729, Train Accuracy: 96.88%\n",
      "Epoch [25/100], Step [18/18], Loss: 0.0633, Train Accuracy: 98.44%\n",
      "Epoch [30/100], Step [1/18], Loss: 0.0185, Train Accuracy: 100.00%\n",
      "Epoch [30/100], Step [2/18], Loss: 0.0213, Train Accuracy: 99.22%\n",
      "Epoch [30/100], Step [3/18], Loss: 0.0351, Train Accuracy: 100.00%\n",
      "Epoch [30/100], Step [4/18], Loss: 0.0331, Train Accuracy: 99.22%\n",
      "Epoch [30/100], Step [5/18], Loss: 0.0575, Train Accuracy: 98.44%\n",
      "Epoch [30/100], Step [6/18], Loss: 0.0545, Train Accuracy: 96.88%\n",
      "Epoch [30/100], Step [7/18], Loss: 0.0247, Train Accuracy: 99.22%\n",
      "Epoch [30/100], Step [8/18], Loss: 0.0260, Train Accuracy: 100.00%\n",
      "Epoch [30/100], Step [9/18], Loss: 0.0308, Train Accuracy: 100.00%\n",
      "Epoch [30/100], Step [10/18], Loss: 0.0528, Train Accuracy: 97.66%\n",
      "Epoch [30/100], Step [11/18], Loss: 0.0587, Train Accuracy: 97.66%\n",
      "Epoch [30/100], Step [12/18], Loss: 0.0709, Train Accuracy: 97.66%\n",
      "Epoch [30/100], Step [13/18], Loss: 0.0630, Train Accuracy: 98.44%\n",
      "Epoch [30/100], Step [14/18], Loss: 0.0454, Train Accuracy: 98.44%\n",
      "Epoch [30/100], Step [15/18], Loss: 0.1319, Train Accuracy: 96.88%\n",
      "Epoch [30/100], Step [16/18], Loss: 0.0621, Train Accuracy: 97.66%\n"
     ]
    },
    {
     "name": "stdout",
     "output_type": "stream",
     "text": [
      "Epoch [30/100], Step [17/18], Loss: 0.1192, Train Accuracy: 95.31%\n",
      "Epoch [30/100], Step [18/18], Loss: 0.0472, Train Accuracy: 96.88%\n",
      "Epoch [35/100], Step [1/18], Loss: 0.0985, Train Accuracy: 96.88%\n",
      "Epoch [35/100], Step [2/18], Loss: 0.0181, Train Accuracy: 100.00%\n",
      "Epoch [35/100], Step [3/18], Loss: 0.0432, Train Accuracy: 99.22%\n",
      "Epoch [35/100], Step [4/18], Loss: 0.0185, Train Accuracy: 100.00%\n",
      "Epoch [35/100], Step [5/18], Loss: 0.0700, Train Accuracy: 95.31%\n",
      "Epoch [35/100], Step [6/18], Loss: 0.0484, Train Accuracy: 98.44%\n",
      "Epoch [35/100], Step [7/18], Loss: 0.0607, Train Accuracy: 97.66%\n",
      "Epoch [35/100], Step [8/18], Loss: 0.0152, Train Accuracy: 99.22%\n",
      "Epoch [35/100], Step [9/18], Loss: 0.1009, Train Accuracy: 96.09%\n",
      "Epoch [35/100], Step [10/18], Loss: 0.0694, Train Accuracy: 96.09%\n",
      "Epoch [35/100], Step [11/18], Loss: 0.0466, Train Accuracy: 97.66%\n",
      "Epoch [35/100], Step [12/18], Loss: 0.1283, Train Accuracy: 93.75%\n",
      "Epoch [35/100], Step [13/18], Loss: 0.0505, Train Accuracy: 97.66%\n",
      "Epoch [35/100], Step [14/18], Loss: 0.0109, Train Accuracy: 100.00%\n",
      "Epoch [35/100], Step [15/18], Loss: 0.0368, Train Accuracy: 99.22%\n",
      "Epoch [35/100], Step [16/18], Loss: 0.0836, Train Accuracy: 96.88%\n",
      "Epoch [35/100], Step [17/18], Loss: 0.0705, Train Accuracy: 96.09%\n",
      "Epoch [35/100], Step [18/18], Loss: 0.0136, Train Accuracy: 100.00%\n",
      "Epoch [40/100], Step [1/18], Loss: 0.0742, Train Accuracy: 96.09%\n",
      "Epoch [40/100], Step [2/18], Loss: 0.0362, Train Accuracy: 98.44%\n",
      "Epoch [40/100], Step [3/18], Loss: 0.0120, Train Accuracy: 100.00%\n",
      "Epoch [40/100], Step [4/18], Loss: 0.0208, Train Accuracy: 100.00%\n",
      "Epoch [40/100], Step [5/18], Loss: 0.0212, Train Accuracy: 100.00%\n",
      "Epoch [40/100], Step [6/18], Loss: 0.0306, Train Accuracy: 99.22%\n",
      "Epoch [40/100], Step [7/18], Loss: 0.0081, Train Accuracy: 100.00%\n",
      "Epoch [40/100], Step [8/18], Loss: 0.0209, Train Accuracy: 99.22%\n",
      "Epoch [40/100], Step [9/18], Loss: 0.0079, Train Accuracy: 100.00%\n",
      "Epoch [40/100], Step [10/18], Loss: 0.0098, Train Accuracy: 100.00%\n",
      "Epoch [40/100], Step [11/18], Loss: 0.0120, Train Accuracy: 100.00%\n",
      "Epoch [40/100], Step [12/18], Loss: 0.0173, Train Accuracy: 100.00%\n",
      "Epoch [40/100], Step [13/18], Loss: 0.0220, Train Accuracy: 99.22%\n",
      "Epoch [40/100], Step [14/18], Loss: 0.0216, Train Accuracy: 99.22%\n",
      "Epoch [40/100], Step [15/18], Loss: 0.0180, Train Accuracy: 99.22%\n",
      "Epoch [40/100], Step [16/18], Loss: 0.0152, Train Accuracy: 100.00%\n",
      "Epoch [40/100], Step [17/18], Loss: 0.0203, Train Accuracy: 98.44%\n",
      "Epoch [40/100], Step [18/18], Loss: 0.0037, Train Accuracy: 100.00%\n",
      "Epoch [45/100], Step [1/18], Loss: 0.0086, Train Accuracy: 100.00%\n",
      "Epoch [45/100], Step [2/18], Loss: 0.0296, Train Accuracy: 99.22%\n",
      "Epoch [45/100], Step [3/18], Loss: 0.0143, Train Accuracy: 99.22%\n",
      "Epoch [45/100], Step [4/18], Loss: 0.0062, Train Accuracy: 100.00%\n",
      "Epoch [45/100], Step [5/18], Loss: 0.0067, Train Accuracy: 100.00%\n",
      "Epoch [45/100], Step [6/18], Loss: 0.0147, Train Accuracy: 100.00%\n",
      "Epoch [45/100], Step [7/18], Loss: 0.0179, Train Accuracy: 99.22%\n",
      "Epoch [45/100], Step [8/18], Loss: 0.0120, Train Accuracy: 99.22%\n",
      "Epoch [45/100], Step [9/18], Loss: 0.0112, Train Accuracy: 100.00%\n",
      "Epoch [45/100], Step [10/18], Loss: 0.0098, Train Accuracy: 100.00%\n",
      "Epoch [45/100], Step [11/18], Loss: 0.0121, Train Accuracy: 99.22%\n",
      "Epoch [45/100], Step [12/18], Loss: 0.0060, Train Accuracy: 100.00%\n",
      "Epoch [45/100], Step [13/18], Loss: 0.0061, Train Accuracy: 100.00%\n",
      "Epoch [45/100], Step [14/18], Loss: 0.0060, Train Accuracy: 100.00%\n",
      "Epoch [45/100], Step [15/18], Loss: 0.0073, Train Accuracy: 100.00%\n",
      "Epoch [45/100], Step [16/18], Loss: 0.0082, Train Accuracy: 100.00%\n",
      "Epoch [45/100], Step [17/18], Loss: 0.0066, Train Accuracy: 100.00%\n",
      "Epoch [45/100], Step [18/18], Loss: 0.0057, Train Accuracy: 100.00%\n",
      "Epoch [50/100], Step [1/18], Loss: 0.0076, Train Accuracy: 100.00%\n",
      "Epoch [50/100], Step [2/18], Loss: 0.0056, Train Accuracy: 100.00%\n",
      "Epoch [50/100], Step [3/18], Loss: 0.0022, Train Accuracy: 100.00%\n",
      "Epoch [50/100], Step [4/18], Loss: 0.0039, Train Accuracy: 100.00%\n",
      "Epoch [50/100], Step [5/18], Loss: 0.0058, Train Accuracy: 100.00%\n",
      "Epoch [50/100], Step [6/18], Loss: 0.0096, Train Accuracy: 100.00%\n",
      "Epoch [50/100], Step [7/18], Loss: 0.0042, Train Accuracy: 100.00%\n",
      "Epoch [50/100], Step [8/18], Loss: 0.0053, Train Accuracy: 100.00%\n",
      "Epoch [50/100], Step [9/18], Loss: 0.0105, Train Accuracy: 100.00%\n",
      "Epoch [50/100], Step [10/18], Loss: 0.0052, Train Accuracy: 100.00%\n",
      "Epoch [50/100], Step [11/18], Loss: 0.0055, Train Accuracy: 100.00%\n",
      "Epoch [50/100], Step [12/18], Loss: 0.0083, Train Accuracy: 100.00%\n",
      "Epoch [50/100], Step [13/18], Loss: 0.0141, Train Accuracy: 99.22%\n",
      "Epoch [50/100], Step [14/18], Loss: 0.0042, Train Accuracy: 100.00%\n",
      "Epoch [50/100], Step [15/18], Loss: 0.0056, Train Accuracy: 100.00%\n",
      "Epoch [50/100], Step [16/18], Loss: 0.0118, Train Accuracy: 99.22%\n",
      "Epoch [50/100], Step [17/18], Loss: 0.0090, Train Accuracy: 100.00%\n",
      "Epoch [50/100], Step [18/18], Loss: 0.0212, Train Accuracy: 98.44%\n",
      "Epoch [55/100], Step [1/18], Loss: 0.0050, Train Accuracy: 100.00%\n",
      "Epoch [55/100], Step [2/18], Loss: 0.0022, Train Accuracy: 100.00%\n",
      "Epoch [55/100], Step [3/18], Loss: 0.0027, Train Accuracy: 100.00%\n",
      "Epoch [55/100], Step [4/18], Loss: 0.0152, Train Accuracy: 100.00%\n",
      "Epoch [55/100], Step [5/18], Loss: 0.0028, Train Accuracy: 100.00%\n",
      "Epoch [55/100], Step [6/18], Loss: 0.0088, Train Accuracy: 100.00%\n",
      "Epoch [55/100], Step [7/18], Loss: 0.0025, Train Accuracy: 100.00%\n",
      "Epoch [55/100], Step [8/18], Loss: 0.0035, Train Accuracy: 100.00%\n",
      "Epoch [55/100], Step [9/18], Loss: 0.0288, Train Accuracy: 99.22%\n",
      "Epoch [55/100], Step [10/18], Loss: 0.0070, Train Accuracy: 100.00%\n",
      "Epoch [55/100], Step [11/18], Loss: 0.0032, Train Accuracy: 100.00%\n",
      "Epoch [55/100], Step [12/18], Loss: 0.0043, Train Accuracy: 100.00%\n",
      "Epoch [55/100], Step [13/18], Loss: 0.0038, Train Accuracy: 100.00%\n",
      "Epoch [55/100], Step [14/18], Loss: 0.0181, Train Accuracy: 99.22%\n",
      "Epoch [55/100], Step [15/18], Loss: 0.0055, Train Accuracy: 100.00%\n",
      "Epoch [55/100], Step [16/18], Loss: 0.0047, Train Accuracy: 100.00%\n",
      "Epoch [55/100], Step [17/18], Loss: 0.0023, Train Accuracy: 100.00%\n",
      "Epoch [55/100], Step [18/18], Loss: 0.0013, Train Accuracy: 100.00%\n",
      "Epoch [60/100], Step [1/18], Loss: 0.0196, Train Accuracy: 100.00%\n",
      "Epoch [60/100], Step [2/18], Loss: 0.0168, Train Accuracy: 99.22%\n",
      "Epoch [60/100], Step [3/18], Loss: 0.0471, Train Accuracy: 98.44%\n",
      "Epoch [60/100], Step [4/18], Loss: 0.0355, Train Accuracy: 99.22%\n",
      "Epoch [60/100], Step [5/18], Loss: 0.0434, Train Accuracy: 98.44%\n",
      "Epoch [60/100], Step [6/18], Loss: 0.0395, Train Accuracy: 97.66%\n",
      "Epoch [60/100], Step [7/18], Loss: 0.0158, Train Accuracy: 100.00%\n",
      "Epoch [60/100], Step [8/18], Loss: 0.0114, Train Accuracy: 100.00%\n",
      "Epoch [60/100], Step [9/18], Loss: 0.0170, Train Accuracy: 99.22%\n",
      "Epoch [60/100], Step [10/18], Loss: 0.0291, Train Accuracy: 98.44%\n",
      "Epoch [60/100], Step [11/18], Loss: 0.1362, Train Accuracy: 96.09%\n",
      "Epoch [60/100], Step [12/18], Loss: 0.0189, Train Accuracy: 99.22%\n",
      "Epoch [60/100], Step [13/18], Loss: 0.0373, Train Accuracy: 98.44%\n",
      "Epoch [60/100], Step [14/18], Loss: 0.0500, Train Accuracy: 98.44%\n",
      "Epoch [60/100], Step [15/18], Loss: 0.0743, Train Accuracy: 96.88%\n",
      "Epoch [60/100], Step [16/18], Loss: 0.0224, Train Accuracy: 100.00%\n",
      "Epoch [60/100], Step [17/18], Loss: 0.0326, Train Accuracy: 99.22%\n",
      "Epoch [60/100], Step [18/18], Loss: 0.0738, Train Accuracy: 96.88%\n",
      "Epoch [65/100], Step [1/18], Loss: 0.0106, Train Accuracy: 100.00%\n",
      "Epoch [65/100], Step [2/18], Loss: 0.0027, Train Accuracy: 100.00%\n",
      "Epoch [65/100], Step [3/18], Loss: 0.0058, Train Accuracy: 100.00%\n",
      "Epoch [65/100], Step [4/18], Loss: 0.0064, Train Accuracy: 100.00%\n",
      "Epoch [65/100], Step [5/18], Loss: 0.0070, Train Accuracy: 100.00%\n",
      "Epoch [65/100], Step [6/18], Loss: 0.0046, Train Accuracy: 100.00%\n",
      "Epoch [65/100], Step [7/18], Loss: 0.0034, Train Accuracy: 100.00%\n",
      "Epoch [65/100], Step [8/18], Loss: 0.0050, Train Accuracy: 100.00%\n",
      "Epoch [65/100], Step [9/18], Loss: 0.0091, Train Accuracy: 100.00%\n",
      "Epoch [65/100], Step [10/18], Loss: 0.0033, Train Accuracy: 100.00%\n",
      "Epoch [65/100], Step [11/18], Loss: 0.0075, Train Accuracy: 100.00%\n",
      "Epoch [65/100], Step [12/18], Loss: 0.0019, Train Accuracy: 100.00%\n",
      "Epoch [65/100], Step [13/18], Loss: 0.0098, Train Accuracy: 99.22%\n",
      "Epoch [65/100], Step [14/18], Loss: 0.0027, Train Accuracy: 100.00%\n"
     ]
    },
    {
     "name": "stdout",
     "output_type": "stream",
     "text": [
      "Epoch [65/100], Step [15/18], Loss: 0.0054, Train Accuracy: 100.00%\n",
      "Epoch [65/100], Step [16/18], Loss: 0.0012, Train Accuracy: 100.00%\n",
      "Epoch [65/100], Step [17/18], Loss: 0.0084, Train Accuracy: 100.00%\n",
      "Epoch [65/100], Step [18/18], Loss: 0.0035, Train Accuracy: 100.00%\n",
      "Epoch [70/100], Step [1/18], Loss: 0.0019, Train Accuracy: 100.00%\n",
      "Epoch [70/100], Step [2/18], Loss: 0.0048, Train Accuracy: 100.00%\n",
      "Epoch [70/100], Step [3/18], Loss: 0.0028, Train Accuracy: 100.00%\n",
      "Epoch [70/100], Step [4/18], Loss: 0.0013, Train Accuracy: 100.00%\n",
      "Epoch [70/100], Step [5/18], Loss: 0.0029, Train Accuracy: 100.00%\n",
      "Epoch [70/100], Step [6/18], Loss: 0.0018, Train Accuracy: 100.00%\n",
      "Epoch [70/100], Step [7/18], Loss: 0.0028, Train Accuracy: 100.00%\n",
      "Epoch [70/100], Step [8/18], Loss: 0.0037, Train Accuracy: 100.00%\n",
      "Epoch [70/100], Step [9/18], Loss: 0.0015, Train Accuracy: 100.00%\n",
      "Epoch [70/100], Step [10/18], Loss: 0.0057, Train Accuracy: 100.00%\n",
      "Epoch [70/100], Step [11/18], Loss: 0.0015, Train Accuracy: 100.00%\n",
      "Epoch [70/100], Step [12/18], Loss: 0.0031, Train Accuracy: 100.00%\n",
      "Epoch [70/100], Step [13/18], Loss: 0.0018, Train Accuracy: 100.00%\n",
      "Epoch [70/100], Step [14/18], Loss: 0.0030, Train Accuracy: 100.00%\n",
      "Epoch [70/100], Step [15/18], Loss: 0.0023, Train Accuracy: 100.00%\n",
      "Epoch [70/100], Step [16/18], Loss: 0.0012, Train Accuracy: 100.00%\n",
      "Epoch [70/100], Step [17/18], Loss: 0.0032, Train Accuracy: 100.00%\n",
      "Epoch [70/100], Step [18/18], Loss: 0.0077, Train Accuracy: 100.00%\n",
      "Epoch [75/100], Step [1/18], Loss: 0.0025, Train Accuracy: 100.00%\n",
      "Epoch [75/100], Step [2/18], Loss: 0.0021, Train Accuracy: 100.00%\n",
      "Epoch [75/100], Step [3/18], Loss: 0.0010, Train Accuracy: 100.00%\n",
      "Epoch [75/100], Step [4/18], Loss: 0.0027, Train Accuracy: 100.00%\n",
      "Epoch [75/100], Step [5/18], Loss: 0.0013, Train Accuracy: 100.00%\n",
      "Epoch [75/100], Step [6/18], Loss: 0.0012, Train Accuracy: 100.00%\n",
      "Epoch [75/100], Step [7/18], Loss: 0.0019, Train Accuracy: 100.00%\n",
      "Epoch [75/100], Step [8/18], Loss: 0.0012, Train Accuracy: 100.00%\n",
      "Epoch [75/100], Step [9/18], Loss: 0.0092, Train Accuracy: 99.22%\n",
      "Epoch [75/100], Step [10/18], Loss: 0.0019, Train Accuracy: 100.00%\n",
      "Epoch [75/100], Step [11/18], Loss: 0.0012, Train Accuracy: 100.00%\n",
      "Epoch [75/100], Step [12/18], Loss: 0.0025, Train Accuracy: 100.00%\n",
      "Epoch [75/100], Step [13/18], Loss: 0.0020, Train Accuracy: 100.00%\n",
      "Epoch [75/100], Step [14/18], Loss: 0.0014, Train Accuracy: 100.00%\n",
      "Epoch [75/100], Step [15/18], Loss: 0.0060, Train Accuracy: 100.00%\n",
      "Epoch [75/100], Step [16/18], Loss: 0.0031, Train Accuracy: 100.00%\n",
      "Epoch [75/100], Step [17/18], Loss: 0.0026, Train Accuracy: 100.00%\n",
      "Epoch [75/100], Step [18/18], Loss: 0.0009, Train Accuracy: 100.00%\n",
      "Epoch [80/100], Step [1/18], Loss: 0.0023, Train Accuracy: 100.00%\n",
      "Epoch [80/100], Step [2/18], Loss: 0.0022, Train Accuracy: 100.00%\n",
      "Epoch [80/100], Step [3/18], Loss: 0.0021, Train Accuracy: 100.00%\n",
      "Epoch [80/100], Step [4/18], Loss: 0.0012, Train Accuracy: 100.00%\n",
      "Epoch [80/100], Step [5/18], Loss: 0.0057, Train Accuracy: 100.00%\n",
      "Epoch [80/100], Step [6/18], Loss: 0.0022, Train Accuracy: 100.00%\n",
      "Epoch [80/100], Step [7/18], Loss: 0.0018, Train Accuracy: 100.00%\n",
      "Epoch [80/100], Step [8/18], Loss: 0.0033, Train Accuracy: 100.00%\n",
      "Epoch [80/100], Step [9/18], Loss: 0.0011, Train Accuracy: 100.00%\n",
      "Epoch [80/100], Step [10/18], Loss: 0.0008, Train Accuracy: 100.00%\n",
      "Epoch [80/100], Step [11/18], Loss: 0.0022, Train Accuracy: 100.00%\n",
      "Epoch [80/100], Step [12/18], Loss: 0.0065, Train Accuracy: 100.00%\n",
      "Epoch [80/100], Step [13/18], Loss: 0.0012, Train Accuracy: 100.00%\n",
      "Epoch [80/100], Step [14/18], Loss: 0.0025, Train Accuracy: 100.00%\n",
      "Epoch [80/100], Step [15/18], Loss: 0.0011, Train Accuracy: 100.00%\n",
      "Epoch [80/100], Step [16/18], Loss: 0.0009, Train Accuracy: 100.00%\n",
      "Epoch [80/100], Step [17/18], Loss: 0.0057, Train Accuracy: 100.00%\n",
      "Epoch [80/100], Step [18/18], Loss: 0.0019, Train Accuracy: 100.00%\n",
      "Epoch [85/100], Step [1/18], Loss: 0.0005, Train Accuracy: 100.00%\n",
      "Epoch [85/100], Step [2/18], Loss: 0.0026, Train Accuracy: 100.00%\n",
      "Epoch [85/100], Step [3/18], Loss: 0.0010, Train Accuracy: 100.00%\n",
      "Epoch [85/100], Step [4/18], Loss: 0.0219, Train Accuracy: 99.22%\n",
      "Epoch [85/100], Step [5/18], Loss: 0.0019, Train Accuracy: 100.00%\n",
      "Epoch [85/100], Step [6/18], Loss: 0.0326, Train Accuracy: 98.44%\n",
      "Epoch [85/100], Step [7/18], Loss: 0.0007, Train Accuracy: 100.00%\n",
      "Epoch [85/100], Step [8/18], Loss: 0.0195, Train Accuracy: 98.44%\n",
      "Epoch [85/100], Step [9/18], Loss: 0.0007, Train Accuracy: 100.00%\n",
      "Epoch [85/100], Step [10/18], Loss: 0.0054, Train Accuracy: 100.00%\n",
      "Epoch [85/100], Step [11/18], Loss: 0.0047, Train Accuracy: 100.00%\n",
      "Epoch [85/100], Step [12/18], Loss: 0.0150, Train Accuracy: 99.22%\n",
      "Epoch [85/100], Step [13/18], Loss: 0.0174, Train Accuracy: 99.22%\n",
      "Epoch [85/100], Step [14/18], Loss: 0.0017, Train Accuracy: 100.00%\n",
      "Epoch [85/100], Step [15/18], Loss: 0.0035, Train Accuracy: 100.00%\n",
      "Epoch [85/100], Step [16/18], Loss: 0.0003, Train Accuracy: 100.00%\n",
      "Epoch [85/100], Step [17/18], Loss: 0.0024, Train Accuracy: 100.00%\n",
      "Epoch [85/100], Step [18/18], Loss: 0.0015, Train Accuracy: 100.00%\n",
      "Epoch [90/100], Step [1/18], Loss: 0.0016, Train Accuracy: 100.00%\n",
      "Epoch [90/100], Step [2/18], Loss: 0.0004, Train Accuracy: 100.00%\n",
      "Epoch [90/100], Step [3/18], Loss: 0.0016, Train Accuracy: 100.00%\n",
      "Epoch [90/100], Step [4/18], Loss: 0.0010, Train Accuracy: 100.00%\n",
      "Epoch [90/100], Step [5/18], Loss: 0.0013, Train Accuracy: 100.00%\n",
      "Epoch [90/100], Step [6/18], Loss: 0.0018, Train Accuracy: 100.00%\n",
      "Epoch [90/100], Step [7/18], Loss: 0.0005, Train Accuracy: 100.00%\n",
      "Epoch [90/100], Step [8/18], Loss: 0.0020, Train Accuracy: 100.00%\n",
      "Epoch [90/100], Step [9/18], Loss: 0.0008, Train Accuracy: 100.00%\n",
      "Epoch [90/100], Step [10/18], Loss: 0.0015, Train Accuracy: 100.00%\n",
      "Epoch [90/100], Step [11/18], Loss: 0.0012, Train Accuracy: 100.00%\n",
      "Epoch [90/100], Step [12/18], Loss: 0.0023, Train Accuracy: 100.00%\n",
      "Epoch [90/100], Step [13/18], Loss: 0.0005, Train Accuracy: 100.00%\n",
      "Epoch [90/100], Step [14/18], Loss: 0.0024, Train Accuracy: 100.00%\n",
      "Epoch [90/100], Step [15/18], Loss: 0.0015, Train Accuracy: 100.00%\n",
      "Epoch [90/100], Step [16/18], Loss: 0.0006, Train Accuracy: 100.00%\n",
      "Epoch [90/100], Step [17/18], Loss: 0.0416, Train Accuracy: 99.22%\n",
      "Epoch [90/100], Step [18/18], Loss: 0.0014, Train Accuracy: 100.00%\n",
      "Epoch [95/100], Step [1/18], Loss: 0.0042, Train Accuracy: 100.00%\n",
      "Epoch [95/100], Step [2/18], Loss: 0.0043, Train Accuracy: 100.00%\n",
      "Epoch [95/100], Step [3/18], Loss: 0.0010, Train Accuracy: 100.00%\n",
      "Epoch [95/100], Step [4/18], Loss: 0.0007, Train Accuracy: 100.00%\n",
      "Epoch [95/100], Step [5/18], Loss: 0.0032, Train Accuracy: 100.00%\n",
      "Epoch [95/100], Step [6/18], Loss: 0.0023, Train Accuracy: 100.00%\n",
      "Epoch [95/100], Step [7/18], Loss: 0.0052, Train Accuracy: 100.00%\n",
      "Epoch [95/100], Step [8/18], Loss: 0.0036, Train Accuracy: 100.00%\n",
      "Epoch [95/100], Step [9/18], Loss: 0.0008, Train Accuracy: 100.00%\n",
      "Epoch [95/100], Step [10/18], Loss: 0.0109, Train Accuracy: 99.22%\n",
      "Epoch [95/100], Step [11/18], Loss: 0.0010, Train Accuracy: 100.00%\n",
      "Epoch [95/100], Step [12/18], Loss: 0.0009, Train Accuracy: 100.00%\n",
      "Epoch [95/100], Step [13/18], Loss: 0.0028, Train Accuracy: 100.00%\n",
      "Epoch [95/100], Step [14/18], Loss: 0.0013, Train Accuracy: 100.00%\n",
      "Epoch [95/100], Step [15/18], Loss: 0.0024, Train Accuracy: 100.00%\n",
      "Epoch [95/100], Step [16/18], Loss: 0.0056, Train Accuracy: 100.00%\n",
      "Epoch [95/100], Step [17/18], Loss: 0.0097, Train Accuracy: 99.22%\n",
      "Epoch [95/100], Step [18/18], Loss: 0.0033, Train Accuracy: 100.00%\n",
      "Epoch [100/100], Step [1/18], Loss: 0.0015, Train Accuracy: 100.00%\n",
      "Epoch [100/100], Step [2/18], Loss: 0.0004, Train Accuracy: 100.00%\n",
      "Epoch [100/100], Step [3/18], Loss: 0.0007, Train Accuracy: 100.00%\n",
      "Epoch [100/100], Step [4/18], Loss: 0.0004, Train Accuracy: 100.00%\n",
      "Epoch [100/100], Step [5/18], Loss: 0.0011, Train Accuracy: 100.00%\n",
      "Epoch [100/100], Step [6/18], Loss: 0.0004, Train Accuracy: 100.00%\n",
      "Epoch [100/100], Step [7/18], Loss: 0.0002, Train Accuracy: 100.00%\n",
      "Epoch [100/100], Step [8/18], Loss: 0.0006, Train Accuracy: 100.00%\n",
      "Epoch [100/100], Step [9/18], Loss: 0.0007, Train Accuracy: 100.00%\n",
      "Epoch [100/100], Step [10/18], Loss: 0.0005, Train Accuracy: 100.00%\n"
     ]
    },
    {
     "name": "stdout",
     "output_type": "stream",
     "text": [
      "Epoch [100/100], Step [11/18], Loss: 0.0012, Train Accuracy: 100.00%\n",
      "Epoch [100/100], Step [12/18], Loss: 0.0010, Train Accuracy: 100.00%\n",
      "Epoch [100/100], Step [13/18], Loss: 0.0007, Train Accuracy: 100.00%\n",
      "Epoch [100/100], Step [14/18], Loss: 0.0012, Train Accuracy: 100.00%\n",
      "Epoch [100/100], Step [15/18], Loss: 0.0019, Train Accuracy: 100.00%\n",
      "Epoch [100/100], Step [16/18], Loss: 0.0029, Train Accuracy: 100.00%\n",
      "Epoch [100/100], Step [17/18], Loss: 0.0005, Train Accuracy: 100.00%\n",
      "Epoch [100/100], Step [18/18], Loss: 0.0006, Train Accuracy: 100.00%\n"
     ]
    }
   ],
   "source": [
    "total_step = len(train_loader)\n",
    "loss_list = []\n",
    "acc_list = []\n",
    "for epoch in range(num_epochs):\n",
    "    for i, (signals, labels) in enumerate(train_loader):\n",
    "        optimizer.zero_grad()\n",
    "        # Run the forward pass\n",
    "        signals=signals\n",
    "        labels=labels\n",
    "        outputs = cnn(signals.double())\n",
    "        loss = criterion(outputs, labels.long())\n",
    "        \n",
    "        loss_list.append(loss.item())\n",
    "\n",
    "        # Backprop and perform Adam optimisation\n",
    "        \n",
    "        loss.backward()\n",
    "        optimizer.step()\n",
    "        # Track the accuracy\n",
    "        total = labels.size(0)\n",
    "        _, predicted = torch.max(outputs.data, 1)\n",
    "        correct = (predicted == labels.long()).sum().item()\n",
    "        acc_list.append(correct / total)\n",
    "\n",
    "        if (epoch+1) % 5 == 0 or epoch==0:\n",
    "            print('Epoch [{}/{}], Step [{}/{}], Loss: {:.4f}, Train Accuracy: {:.2f}%'\n",
    "                  .format(epoch + 1, num_epochs, i + 1, total_step, loss.item(),\n",
    "                          (correct / total) * 100))\n",
    "        "
   ]
  },
  {
   "cell_type": "code",
   "execution_count": 25,
   "metadata": {},
   "outputs": [
    {
     "name": "stdout",
     "output_type": "stream",
     "text": [
      "1\n",
      "Epoch [100/100], Step [1/1], Loss: 0.0686, Accuracy: 98.57%\n"
     ]
    }
   ],
   "source": [
    "total_step = len(test_loader)\n",
    "print(total_step)\n",
    "loss_list_test = []\n",
    "acc_list_test = []\n",
    "with torch.no_grad():\n",
    "    for i, (signals, labels) in enumerate(test_loader):\n",
    "        # Run the forward pass\n",
    "        signals=signals\n",
    "        labels=labels\n",
    "        outputs = cnn(signals.double())\n",
    "        loss = criterion(outputs, labels.long())\n",
    "        loss_list_test.append(loss.item())\n",
    "        if epoch%10 ==0:\n",
    "            print(loss)\n",
    "        total = labels.size(0)\n",
    "        _, predicted = torch.max(outputs.data, 1)\n",
    "        correct = (predicted == labels.long()).sum().item()\n",
    "        acc_list_test.append(correct / total)\n",
    "        if (epoch) % 1 == 0:\n",
    "            print('Epoch [{}/{}], Step [{}/{}], Loss: {:.4f}, Accuracy: {:.2f}%'\n",
    "                  .format(epoch + 1, num_epochs, i + 1, total_step, loss.item(),\n",
    "                          (correct / total) * 100))"
   ]
  },
  {
   "cell_type": "code",
   "execution_count": 26,
   "metadata": {},
   "outputs": [
    {
     "name": "stderr",
     "output_type": "stream",
     "text": [
      "/home/cmu/anaconda3/lib/python3.7/site-packages/torch/serialization.py:402: UserWarning: Couldn't retrieve source code for container of type CNN. It won't be checked for correctness upon loading.\n",
      "  \"type \" + obj.__name__ + \". It won't be checked \"\n"
     ]
    }
   ],
   "source": [
    "# if you need to save\n",
    "torch.save(cnn,'cnnTC3_fold3_45.pth')"
   ]
  },
  {
   "cell_type": "code",
   "execution_count": null,
   "metadata": {},
   "outputs": [],
   "source": []
  }
 ],
 "metadata": {
  "kernelspec": {
   "display_name": "Python 3",
   "language": "python",
   "name": "python3"
  },
  "language_info": {
   "codemirror_mode": {
    "name": "ipython",
    "version": 3
   },
   "file_extension": ".py",
   "mimetype": "text/x-python",
   "name": "python",
   "nbconvert_exporter": "python",
   "pygments_lexer": "ipython3",
   "version": "3.7.4"
  }
 },
 "nbformat": 4,
 "nbformat_minor": 2
}
