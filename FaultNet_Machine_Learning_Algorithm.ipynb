{
 "cells": [
  {
   "cell_type": "markdown",
   "metadata": {},
   "source": [
    "# FaultNet: Machine Learning Algorithm"
   ]
  },
  {
   "cell_type": "markdown",
   "metadata": {},
   "source": [
    "##### Importing all the required directories"
   ]
  },
  {
   "cell_type": "code",
   "execution_count": 1,
   "metadata": {},
   "outputs": [],
   "source": [
    "import numpy as np\n",
    "from sklearn.svm import SVC\n",
    "from sklearn.ensemble import RandomForestClassifier\n",
    "from sklearn.linear_model import LogisticRegression\n",
    "from sklearn.neighbors import KNeighborsClassifier\n",
    "from sklearn.neural_network import MLPClassifier\n",
    "from sklearn.model_selection import cross_val_score\n",
    "import warnings"
   ]
  },
  {
   "cell_type": "code",
   "execution_count": 2,
   "metadata": {},
   "outputs": [],
   "source": [
    "warnings.filterwarnings(\"ignore\")"
   ]
  },
  {
   "cell_type": "markdown",
   "metadata": {},
   "source": [
    "##### Importing the featurized data"
   ]
  },
  {
   "cell_type": "code",
   "execution_count": 3,
   "metadata": {},
   "outputs": [
    {
     "name": "stdout",
     "output_type": "stream",
     "text": [
      "Train data shape:  (2800, 14)\n"
     ]
    }
   ],
   "source": [
    "x = np.load('cwru_feature.npy', allow_pickle = True)\n",
    "y = np.load('cwru_lables.npy', allow_pickle = True)\n",
    "print(\"Train data shape: \", x.shape)"
   ]
  },
  {
   "cell_type": "markdown",
   "metadata": {},
   "source": [
    "##### Features"
   ]
  },
  {
   "cell_type": "code",
   "execution_count": 4,
   "metadata": {},
   "outputs": [
    {
     "name": "stdout",
     "output_type": "stream",
     "text": [
      "Features:  ['Kurtosis', 'Skewness', 'Mean', 'Max', 'Min', 'Peak to peak', 'Variance', 'RMS', 'Absolute mean', 'Shape factor', 'Impulse factor', 'Crest factor', 'Absolute max', 'Clearance factor']\n"
     ]
    }
   ],
   "source": [
    "features = ['Kurtosis', 'Skewness', 'Mean', 'Max', 'Min', 'Peak to peak', 'Variance', 'RMS', 'Absolute mean', 'Shape factor', 'Impulse factor', 'Crest factor', 'Absolute max', 'Clearance factor']\n",
    "print('Features: ', features)"
   ]
  },
  {
   "cell_type": "markdown",
   "metadata": {},
   "source": [
    "##### Random Forest"
   ]
  },
  {
   "cell_type": "code",
   "execution_count": 6,
   "metadata": {},
   "outputs": [
    {
     "name": "stdout",
     "output_type": "stream",
     "text": [
      "Fold-wise accuracies:  [0.90178571 0.92678571 0.86607143 0.87142857 0.90892857]\n",
      "Mean accuracy:  0.8949999999999999\n"
     ]
    }
   ],
   "source": [
    "RF=RandomForestClassifier(n_estimators=15,random_state=42)\n",
    "score = cross_val_score(RF, x, y, cv=5)\n",
    "print('Fold-wise accuracies: ', score)\n",
    "print('Mean accuracy: ', np.mean(np.array(score)))"
   ]
  },
  {
   "cell_type": "markdown",
   "metadata": {},
   "source": [
    "##### Support Vector Classifier"
   ]
  },
  {
   "cell_type": "code",
   "execution_count": 7,
   "metadata": {},
   "outputs": [
    {
     "name": "stdout",
     "output_type": "stream",
     "text": [
      "Fold-wise accuracies:  [0.69285714 0.69107143 0.67857143 0.70178571 0.69464286]\n",
      "Mean accuracy:  0.6917857142857142\n"
     ]
    }
   ],
   "source": [
    "SVC=SVC(random_state=100, tol=1e-1)\n",
    "score = cross_val_score(SVC, x, y, cv=5)\n",
    "print('Fold-wise accuracies: ', score)\n",
    "print('Mean accuracy: ', np.mean(np.array(score)))"
   ]
  },
  {
   "cell_type": "markdown",
   "metadata": {},
   "source": [
    "### Logistic Regression"
   ]
  },
  {
   "cell_type": "code",
   "execution_count": 8,
   "metadata": {},
   "outputs": [
    {
     "name": "stdout",
     "output_type": "stream",
     "text": [
      "Fold-wise accuracies:  [0.75       0.78035714 0.74107143 0.73035714 0.76785714]\n",
      "Mean accuracy:  0.7539285714285714\n"
     ]
    }
   ],
   "source": [
    "LR=LogisticRegression(random_state=6, solver='lbfgs',multi_class='multinomial')\n",
    "score = cross_val_score(LR, x, y, cv=5)\n",
    "print('Fold-wise accuracies: ', score)\n",
    "print('Mean accuracy: ', np.mean(np.array(score)))"
   ]
  },
  {
   "cell_type": "markdown",
   "metadata": {},
   "source": [
    "##### K Nearest Neighbors Classifier"
   ]
  },
  {
   "cell_type": "code",
   "execution_count": 9,
   "metadata": {},
   "outputs": [
    {
     "name": "stdout",
     "output_type": "stream",
     "text": [
      "Fold-wise accuracies:  [0.7125     0.73035714 0.69107143 0.70357143 0.7125    ]\n",
      "Mean accuracy:  0.71\n"
     ]
    }
   ],
   "source": [
    "knn=KNeighborsClassifier(n_neighbors=75)\n",
    "score = cross_val_score(knn, x, y, cv=5)\n",
    "print('Fold-wise accuracies: ', score)\n",
    "print('Mean accuracy: ', np.mean(np.array(score)))"
   ]
  },
  {
   "cell_type": "markdown",
   "metadata": {},
   "source": [
    "##### Multi-Layer Perceptron Classifier"
   ]
  },
  {
   "cell_type": "code",
   "execution_count": 10,
   "metadata": {},
   "outputs": [
    {
     "name": "stdout",
     "output_type": "stream",
     "text": [
      "Fold-wise accuracies:  [0.78392857 0.80892857 0.8        0.76428571 0.82678571]\n",
      "Mean accuracy:  0.7967857142857143\n"
     ]
    }
   ],
   "source": [
    "mlpc=MLPClassifier(solver='lbfgs', alpha=1e-5,hidden_layer_sizes=(512), random_state=10)\n",
    "score = cross_val_score(mlpc, x, y, cv=5)\n",
    "print('Fold-wise accuracies: ', score)\n",
    "print('Mean accuracy: ', np.mean(np.array(score)))"
   ]
  },
  {
   "cell_type": "markdown",
   "metadata": {},
   "source": [
    "##### Similarly, Paderborn University data can be imported and tested"
   ]
  }
 ],
 "metadata": {
  "kernelspec": {
   "display_name": "Python 3",
   "language": "python",
   "name": "python3"
  },
  "language_info": {
   "codemirror_mode": {
    "name": "ipython",
    "version": 3
   },
   "file_extension": ".py",
   "mimetype": "text/x-python",
   "name": "python",
   "nbconvert_exporter": "python",
   "pygments_lexer": "ipython3",
   "version": "3.8.3"
  }
 },
 "nbformat": 4,
 "nbformat_minor": 4
}
